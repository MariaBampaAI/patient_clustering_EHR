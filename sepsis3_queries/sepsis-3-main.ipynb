{
 "cells": [
  {
   "cell_type": "markdown",
   "metadata": {},
   "source": [
    "# Sepsis-3 in MIMIC-III\n",
    "\n",
    "This is the primary notebook for analyzing sepsis-3 in the MIMIC-III database. Before running this notebook, you'll need the `sepsis3-df.csv` file in the local directory: either by downloading it directly from PhysioNet or running the SQL scripts enclosed on the MIMIC-III database. See `sepsis-3-get-data.ipynb` for more detail."
   ]
  },
  {
   "cell_type": "code",
   "execution_count": 2,
   "metadata": {},
   "outputs": [],
   "source": [
    "from __future__ import print_function\n",
    "\n",
    "# Import libraries\n",
    "import os\n",
    "import numpy as np\n",
    "import pandas as pd\n",
    "import matplotlib\n",
    "import matplotlib.pyplot as plt\n",
    "import subprocess\n",
    "import tableone\n",
    "from collections import OrderedDict\n",
    "from statsmodels.formula.api import logit\n",
    "from IPython.display import display, HTML # used to print out pretty pandas dataframes\n",
    "\n",
    "from sepsis_utils import sepsis_utils as su\n",
    "from sepsis_utils import roc_utils as ru\n",
    "\n",
    "# used to calculate AUROC/accuracy\n",
    "from sklearn import metrics\n",
    "\n",
    "# default colours for prettier plots\n",
    "col = [[0.9047, 0.1918, 0.1988],\n",
    "    [0.2941, 0.5447, 0.7494],\n",
    "    [0.3718, 0.7176, 0.3612],\n",
    "    [1.0000, 0.5482, 0.1000],\n",
    "    [0.4550, 0.4946, 0.4722],\n",
    "    [0.6859, 0.4035, 0.2412],\n",
    "    [0.9718, 0.5553, 0.7741],\n",
    "    [0.5313, 0.3359, 0.6523]];\n",
    "marker = ['v','o','d','^','s','o','+']\n",
    "ls = ['-','-','-','-','-','s','--','--']\n",
    "\n",
    "import colorsys\n",
    "def gg_color_hue(n):\n",
    "    hues = np.linspace(15, 375, n)\n",
    "    hsv_tuples = [(x*1.0/360.0, 0.5, 0.8) for x in hues]\n",
    "    rgb_tuples = map(lambda x: colorsys.hsv_to_rgb(*x), hsv_tuples)\n",
    "    return rgb_tuples\n",
    "\n",
    "# path used for data - can be a relative path to the current folder\n",
    "data_path = 'data'\n",
    "\n",
    "%matplotlib inline\n",
    "plt.style.use('ggplot')\n",
    "\n",
    "font = {'family' : 'DejaVu Sans',\n",
    "        'size'   : 20}\n",
    "\n",
    "matplotlib.rc('font', **font)"
   ]
  },
  {
   "cell_type": "code",
   "execution_count": 3,
   "metadata": {},
   "outputs": [],
   "source": [
    "df = pd.read_csv(os.path.join(data_path,'sepsis3-df.csv'))\n",
    "\n",
    "# add the composite outcome\n",
    "df['composite_outcome'] = ( (df['hospital_expire_flag']==1) | (df['icu_los']>=3) ).astype(int)\n",
    "\n",
    "labels = OrderedDict([['suspicion_poe', 'BC + ABX (Prescribed)']])\n",
    "\n",
    "# add some other useful variables\n",
    "df['blood culture'] = (~df['blood_culture_time'].isnull())\n",
    "df['suspicion_poe'] = (~df['suspected_infection_time_poe_days'].isnull())\n",
    "\n",
    "df['abx_poe'] = (~df['antibiotic_time_poe'].isnull())\n",
    "\n",
    "df['sepsis-3'] = ((df['suspicion_poe']==1) & (df['sofa']>=2)).astype(int)\n",
    "df['sofa>=2'] = (df['sofa']>=2).astype(int)\n",
    "\n",
    "\n",
    "for c in ['intime','outtime',\n",
    "          'suspected_infection_time_mv','suspected_infection_time',\n",
    "          'suspected_infection_time_poe', 'blood_culture_time']:\n",
    "    if c in df.columns:\n",
    "        if df[c].dtype == 'object':\n",
    "            df[c] = pd.to_datetime(df[c])\n",
    "\n",
    "# list of the sepsis definitions\n",
    "sepsis_list = ['sepsis_angus','sepsis_martin', 'sepsis_explicit',\n",
    "               'sepsis_cdc','sepsis_nqf',\n",
    "               'sepsis-3']"
   ]
  },
  {
   "cell_type": "code",
   "execution_count": 10,
   "metadata": {},
   "outputs": [
    {
     "data": {
      "text/plain": [
       "Index(['icustay_id', 'hadm_id', 'excluded', 'intime', 'outtime', 'dbsource',\n",
       "       'suspected_infection_time_poe', 'suspected_infection_time_poe_days',\n",
       "       'specimen_poe', 'positiveculture_poe', 'antibiotic_time_poe',\n",
       "       'blood_culture_time', 'blood_culture_positive', 'age', 'gender',\n",
       "       'is_male', 'ethnicity', 'race_white', 'race_black', 'race_hispanic',\n",
       "       'race_other', 'metastatic_cancer', 'diabetes', 'height', 'weight',\n",
       "       'bmi', 'first_service', 'hospital_expire_flag', 'thirtyday_expire_flag',\n",
       "       'icu_los', 'hosp_los', 'sepsis_angus', 'sepsis_martin',\n",
       "       'sepsis_explicit', 'septic_shock_explicit', 'severe_sepsis_explicit',\n",
       "       'sepsis_nqf', 'sepsis_cdc', 'sepsis_cdc_simple', 'elixhauser_hospital',\n",
       "       'vent', 'sofa', 'lods', 'sirs', 'qsofa', 'qsofa_sysbp_score',\n",
       "       'qsofa_gcs_score', 'qsofa_resprate_score', 'composite_outcome',\n",
       "       'blood culture', 'suspicion_poe', 'abx_poe', 'sepsis-3', 'sofa>=2',\n",
       "       'race'],\n",
       "      dtype='object')"
      ]
     },
     "execution_count": 10,
     "metadata": {},
     "output_type": "execute_result"
    }
   ],
   "source": [
    "df[df['sepsis-3'] == 1].columns"
   ]
  },
  {
   "cell_type": "markdown",
   "metadata": {},
   "source": [
    "# Results for Abstract"
   ]
  },
  {
   "cell_type": "code",
   "execution_count": 4,
   "metadata": {
    "scrolled": false
   },
   "outputs": [
    {
     "name": "stdout",
     "output_type": "stream",
     "text": [
      "11791 patients.\n",
      " 7061 (60%) suspected of infection.\n",
      " 8868 (75.21%) have SOFA >= 2.\n",
      " 5784 (49.05%) have Sepsis-3 criteria (intersection of above two).\n",
      " 1277 (10.83%) have suspicion and SOFA < 2.\n",
      " 3368 (28.56%) - sepsis_angus\n",
      " 1734 (14.71%) - sepsis_martin\n",
      " 1062 (9.01%) - sepsis_explicit\n",
      " 3761 (31.90%) - sepsis_cdc\n",
      " 1302 (11.04%) - sepsis_nqf\n",
      " 5784 (49.05%) - sepsis-3\n",
      " 2917 (24.74%) have Sepsis-3 criteria but not Angus.\n",
      "\n",
      " === Cronbach Alpha ===\n"
     ]
    },
    {
     "data": {
      "text/html": [
       "<table border=\"1\" class=\"dataframe\">\n",
       "  <thead>\n",
       "    <tr style=\"text-align: right;\">\n",
       "      <th></th>\n",
       "      <th>angus</th>\n",
       "      <th>martin</th>\n",
       "      <th>explicit</th>\n",
       "      <th>cdc</th>\n",
       "      <th>nqf</th>\n",
       "      <th>sepsis-3</th>\n",
       "    </tr>\n",
       "  </thead>\n",
       "  <tbody>\n",
       "    <tr>\n",
       "      <th>angus</th>\n",
       "      <td></td>\n",
       "      <td>0.69 [0.68-0.70]</td>\n",
       "      <td>0.62 [0.61-0.63]</td>\n",
       "      <td>0.62 [0.60-0.63]</td>\n",
       "      <td>0.63 [0.62-0.65]</td>\n",
       "      <td>0.62 [0.61-0.64]</td>\n",
       "    </tr>\n",
       "    <tr>\n",
       "      <th>martin</th>\n",
       "      <td></td>\n",
       "      <td></td>\n",
       "      <td>0.85 [0.84-0.85]</td>\n",
       "      <td>0.54 [0.52-0.55]</td>\n",
       "      <td>0.91 [0.90-0.92]</td>\n",
       "      <td>0.49 [0.48-0.50]</td>\n",
       "    </tr>\n",
       "    <tr>\n",
       "      <th>explicit</th>\n",
       "      <td></td>\n",
       "      <td></td>\n",
       "      <td></td>\n",
       "      <td>0.49 [0.48-0.51]</td>\n",
       "      <td>0.89 [0.89-0.90]</td>\n",
       "      <td>0.40 [0.39-0.41]</td>\n",
       "    </tr>\n",
       "    <tr>\n",
       "      <th>cdc</th>\n",
       "      <td></td>\n",
       "      <td></td>\n",
       "      <td></td>\n",
       "      <td></td>\n",
       "      <td>0.53 [0.52-0.55]</td>\n",
       "      <td>0.76 [0.75-0.76]</td>\n",
       "    </tr>\n",
       "    <tr>\n",
       "      <th>nqf</th>\n",
       "      <td></td>\n",
       "      <td></td>\n",
       "      <td></td>\n",
       "      <td></td>\n",
       "      <td></td>\n",
       "      <td>0.45 [0.43-0.46]</td>\n",
       "    </tr>\n",
       "  </tbody>\n",
       "</table>"
      ],
      "text/plain": [
       "<IPython.core.display.HTML object>"
      ]
     },
     "metadata": {},
     "output_type": "display_data"
    }
   ],
   "source": [
    "# see get-data for the exclusions\n",
    "print('{:5g} patients.'.format(df.shape[0]))\n",
    "\n",
    "print('{:5g} ({:2.0f}%) suspected of infection.'.format(\n",
    "        df['suspicion_poe'].sum(), df['suspicion_poe'].sum()*100.0/df.shape[0]))\n",
    "\n",
    "print('{:5g} ({:2.2f}%) have SOFA >= 2.'.format(\n",
    "    df['sofa>=2'].sum(),100.0*df['sofa>=2'].mean()))\n",
    "\n",
    "print('{:5g} ({:2.2f}%) have Sepsis-3 criteria (intersection of above two).'.format(\n",
    "    df['sepsis-3'].sum(),100.0*df['sepsis-3'].mean()))\n",
    "\n",
    "print('{:5g} ({:2.2f}%) have suspicion and SOFA < 2.'.format(\n",
    "        ((df['sofa>=2']==0) & (df['suspicion_poe']==1)).sum(),\n",
    "        ((df['sofa>=2']==0) & (df['suspicion_poe']==1)).sum()*100.0/df.shape[0]))\n",
    "\n",
    "for c in sepsis_list:\n",
    "    print('{:5g} ({:3.2f}%) - {}'.format(\n",
    "        df[c].sum(), df[c].sum()*100.0/df.shape[0], c))\n",
    "\n",
    "print('{:5g} ({:2.2f}%) have Sepsis-3 criteria but not Angus.'.format(\n",
    "        ((df['sepsis_angus']==0) & (df['sepsis-3']==1)).sum(),\n",
    "        ((df['sepsis_angus']==0) & (df['sepsis-3']==1)).sum()*100.0/df.shape[0]))\n",
    "\n",
    "\n",
    "np.random.seed(21381)\n",
    "# cronbach alpha for construct validity\n",
    "calpha = su.cronbach_alpha_table(df, sepsis_list)\n",
    "\n",
    "# remove \"sepsis_\" prefix from columns/indices\n",
    "calpha.columns = [x.replace('sepsis_','') for x in calpha.columns]\n",
    "calpha.index = [x.replace('sepsis_','') for x in calpha.index]\n",
    "\n",
    "print('\\n === Cronbach Alpha ===')\n",
    "display(HTML(calpha.fillna('').to_html()))"
   ]
  },
  {
   "cell_type": "markdown",
   "metadata": {},
   "source": [
    "# Results section\n",
    "\n",
    "We now print out the results in the same order as they are in the paper."
   ]
  },
  {
   "cell_type": "markdown",
   "metadata": {},
   "source": [
    "# Demographics"
   ]
  },
  {
   "cell_type": "code",
   "execution_count": 5,
   "metadata": {},
   "outputs": [
    {
     "name": "stdout",
     "output_type": "stream",
     "text": [
      "N                   \t11791\n",
      "age                 \t64.5 [51.1, 78.5]\n",
      "gender              \t6478 (54.9%)\n",
      "bmi                 \t28.5 +- 8.0\n",
      "Race                \t\n",
      "White               \t8497 (72.1%)\n",
      "Black               \t1110 (9.4%)\n",
      "Hispanic            \t 457 (9.4%)\n",
      "elixhauser_hospital \t0.0 [0.0, 0.0]\n",
      "qsofa               \t2.0 [1.0, 2.0]\n",
      "sirs                \t3.0 [2.0, 3.0]\n",
      "sofa                \t3.0 [2.0, 5.0]\n",
      "mlods               \n",
      "lactate_max         \n",
      "vent                \t4149 (35.2%)\n",
      "icu_los             \t1.9 [1.1, 3.5]\n",
      "hosp_los            \t5.6 [3.1, 9.6]\n",
      "thirtyday_expire_flag\t1619 (13.7%)\n",
      "hospital_expire_flag\t1277 (10.8%)\n",
      "\n",
      "Alive vs. dead\n",
      "N                   \t10514     \t1277     \t     \n",
      "age                 \t63.3 [50.0, 77.5]\t74.9 [61.8, 83.7]\t< 0.001\n",
      "gender              \t5795 (55.1%)\t 683 (53.5%)\t0.281\n",
      "bmi                 \t28.6 +- 7.6\t28.1 +- 11.4\t0.416\n"
     ]
    },
    {
     "ename": "AttributeError",
     "evalue": "'DataFrame' object has no attribute 'ix'",
     "output_type": "error",
     "traceback": [
      "\u001b[0;31m---------------------------------------------------------------------------\u001b[0m",
      "\u001b[0;31mAttributeError\u001b[0m                            Traceback (most recent call last)",
      "\u001b[0;32m/var/folders/z8/9rzhj2td0kvbgshc9wpwwtv00000gp/T/ipykernel_54457/3451961550.py\u001b[0m in \u001b[0;36m<module>\u001b[0;34m\u001b[0m\n\u001b[1;32m      3\u001b[0m \u001b[0;34m\u001b[0m\u001b[0m\n\u001b[1;32m      4\u001b[0m \u001b[0mprint\u001b[0m\u001b[0;34m(\u001b[0m\u001b[0;34m'\\nAlive vs. dead'\u001b[0m\u001b[0;34m)\u001b[0m\u001b[0;34m\u001b[0m\u001b[0;34m\u001b[0m\u001b[0m\n\u001b[0;32m----> 5\u001b[0;31m \u001b[0msu\u001b[0m\u001b[0;34m.\u001b[0m\u001b[0mprint_demographics\u001b[0m\u001b[0;34m(\u001b[0m\u001b[0mdf\u001b[0m\u001b[0;34m,\u001b[0m \u001b[0midx\u001b[0m\u001b[0;34m=\u001b[0m\u001b[0;34m(\u001b[0m\u001b[0mdf\u001b[0m\u001b[0;34m.\u001b[0m\u001b[0mhospital_expire_flag\u001b[0m\u001b[0;34m.\u001b[0m\u001b[0mvalues\u001b[0m\u001b[0;34m==\u001b[0m\u001b[0;36m1\u001b[0m\u001b[0;34m)\u001b[0m\u001b[0;34m)\u001b[0m\u001b[0;34m\u001b[0m\u001b[0;34m\u001b[0m\u001b[0m\n\u001b[0m\u001b[1;32m      6\u001b[0m \u001b[0;34m\u001b[0m\u001b[0m\n\u001b[1;32m      7\u001b[0m \u001b[0mprint\u001b[0m\u001b[0;34m(\u001b[0m\u001b[0;34m''\u001b[0m\u001b[0;34m)\u001b[0m\u001b[0;34m\u001b[0m\u001b[0;34m\u001b[0m\u001b[0m\n",
      "\u001b[0;32m~/Desktop/Work/Projects/MIMIC/patient_clustering_EHR/alistairewj-sepsis3-mimic-a73fc99/sepsis_utils/sepsis_utils.py\u001b[0m in \u001b[0;36mprint_demographics\u001b[0;34m(df, idx)\u001b[0m\n\u001b[1;32m    357\u001b[0m                     \u001b[0mcurr_var_vec\u001b[0m \u001b[0;34m=\u001b[0m \u001b[0mtbl\u001b[0m\u001b[0;34m.\u001b[0m\u001b[0mindex\u001b[0m\u001b[0;34m.\u001b[0m\u001b[0mvalues\u001b[0m\u001b[0;34m[\u001b[0m\u001b[0;36m0\u001b[0m\u001b[0;34m:\u001b[0m\u001b[0;34m-\u001b[0m\u001b[0;36m1\u001b[0m\u001b[0;34m]\u001b[0m\u001b[0;34m\u001b[0m\u001b[0;34m\u001b[0m\u001b[0m\n\u001b[1;32m    358\u001b[0m                     \u001b[0;31m# Extract table without totals\u001b[0m\u001b[0;34m\u001b[0m\u001b[0;34m\u001b[0m\u001b[0;34m\u001b[0m\u001b[0m\n\u001b[0;32m--> 359\u001b[0;31m                     \u001b[0mtbl\u001b[0m \u001b[0;34m=\u001b[0m \u001b[0mtbl\u001b[0m\u001b[0;34m.\u001b[0m\u001b[0mix\u001b[0m\u001b[0;34m[\u001b[0m\u001b[0;36m0\u001b[0m\u001b[0;34m:\u001b[0m\u001b[0;34m-\u001b[0m\u001b[0;36m1\u001b[0m\u001b[0;34m,\u001b[0m\u001b[0;36m0\u001b[0m\u001b[0;34m:\u001b[0m\u001b[0;34m-\u001b[0m\u001b[0;36m1\u001b[0m\u001b[0;34m]\u001b[0m\u001b[0;34m\u001b[0m\u001b[0;34m\u001b[0m\u001b[0m\n\u001b[0m\u001b[1;32m    360\u001b[0m \u001b[0;34m\u001b[0m\u001b[0m\n\u001b[1;32m    361\u001b[0m                     \u001b[0;31m# get the p-value\u001b[0m\u001b[0;34m\u001b[0m\u001b[0;34m\u001b[0m\u001b[0;34m\u001b[0m\u001b[0m\n",
      "\u001b[0;32m~/Desktop/Work/Projects/MIMIC/patient_clustering_EHR/.venv/lib/python3.7/site-packages/pandas/core/generic.py\u001b[0m in \u001b[0;36m__getattr__\u001b[0;34m(self, name)\u001b[0m\n\u001b[1;32m   5485\u001b[0m         ):\n\u001b[1;32m   5486\u001b[0m             \u001b[0;32mreturn\u001b[0m \u001b[0mself\u001b[0m\u001b[0;34m[\u001b[0m\u001b[0mname\u001b[0m\u001b[0;34m]\u001b[0m\u001b[0;34m\u001b[0m\u001b[0;34m\u001b[0m\u001b[0m\n\u001b[0;32m-> 5487\u001b[0;31m         \u001b[0;32mreturn\u001b[0m \u001b[0mobject\u001b[0m\u001b[0;34m.\u001b[0m\u001b[0m__getattribute__\u001b[0m\u001b[0;34m(\u001b[0m\u001b[0mself\u001b[0m\u001b[0;34m,\u001b[0m \u001b[0mname\u001b[0m\u001b[0;34m)\u001b[0m\u001b[0;34m\u001b[0m\u001b[0;34m\u001b[0m\u001b[0m\n\u001b[0m\u001b[1;32m   5488\u001b[0m \u001b[0;34m\u001b[0m\u001b[0m\n\u001b[1;32m   5489\u001b[0m     \u001b[0;32mdef\u001b[0m \u001b[0m__setattr__\u001b[0m\u001b[0;34m(\u001b[0m\u001b[0mself\u001b[0m\u001b[0;34m,\u001b[0m \u001b[0mname\u001b[0m\u001b[0;34m:\u001b[0m \u001b[0mstr\u001b[0m\u001b[0;34m,\u001b[0m \u001b[0mvalue\u001b[0m\u001b[0;34m)\u001b[0m \u001b[0;34m->\u001b[0m \u001b[0;32mNone\u001b[0m\u001b[0;34m:\u001b[0m\u001b[0;34m\u001b[0m\u001b[0;34m\u001b[0m\u001b[0m\n",
      "\u001b[0;31mAttributeError\u001b[0m: 'DataFrame' object has no attribute 'ix'"
     ]
    }
   ],
   "source": [
    "# Call the print_demographics subfunction, which prints out a reasonably formatted table\n",
    "su.print_demographics(df)\n",
    "\n",
    "print('\\nAlive vs. dead')\n",
    "su.print_demographics(df, idx=(df.hospital_expire_flag.values==1))\n",
    "\n",
    "print('')\n",
    "\n",
    "print('{:5g} have SIRS >= 2 ({:2.2f}%) on admission.'.format(\n",
    "    (df.sirs.values >= 2).sum(),100.0*(df.sirs.values >= 2).mean()))\n",
    "\n",
    "print('{:5g} have qSOFA >= 2 ({:2.2f}%) on admission.'.format(\n",
    "    (df.qsofa.values >= 2).sum(),100.0*(df.qsofa.values >= 2).mean()))\n",
    "\n",
    "print('{:5g} have SOFA >= 2 ({:2.2f}%).'.format(\n",
    "    (df.sofa.values >= 2).sum(),100.0*(df.sofa.values >= 2).mean()))\n",
    "\n",
    "print('{:5g} have LODS >= 2 ({:2.2f}%).'.format(\n",
    "    (df.lods.values >= 2).sum(),100.0*(df.lods.values >= 2).mean()))"
   ]
  },
  {
   "cell_type": "markdown",
   "metadata": {},
   "source": [
    "## Frequency of primary/secondary outcomes for each score\n",
    "\n",
    "First print a table, then plot the figure."
   ]
  },
  {
   "cell_type": "code",
   "execution_count": 6,
   "metadata": {},
   "outputs": [
    {
     "name": "stdout",
     "output_type": "stream",
     "text": [
      "\n",
      "=== hospital_expire_flag ===\n",
      "\n",
      "Criteria       \tN       \tp(death|c)\tp(death|~c)\n",
      "suspicion_poe  \t7061, 59.9%\t12.5%\t\t8.3%\n",
      "sofa>=2        \t8868, 75.2%\t13.2%\t\t3.6%\n",
      "sepsis-3       \t5784, 49.1%\t14.5%\t\t7.3%\n",
      "sepsis_angus   \t3368, 28.6%\t17.9%\t\t8.0%\n",
      "sepsis_martin  \t1734, 14.7%\t22.7%\t\t8.8%\n",
      "sepsis_explicit\t1062, 9.0%\t30.1%\t\t8.9%\n",
      "sepsis_cdc     \t3761, 31.9%\t18.6%\t\t7.2%\n",
      "sepsis_nqf     \t1302, 11.0%\t27.2%\t\t8.8%\n",
      "\n",
      "=== composite_outcome ===\n",
      "\n",
      "Criteria       \tN       \tp(death|c)\tp(death|~c)\n",
      "suspicion_poe  \t7061, 59.9%\t46.3%\t\t19.9%\n",
      "sofa>=2        \t8868, 75.2%\t41.2%\t\t19.2%\n",
      "sepsis-3       \t5784, 49.1%\t50.0%\t\t21.9%\n",
      "sepsis_angus   \t3368, 28.6%\t61.2%\t\t25.5%\n",
      "sepsis_martin  \t1734, 14.7%\t60.1%\t\t31.5%\n",
      "sepsis_explicit\t1062, 9.0%\t70.7%\t\t32.2%\n",
      "sepsis_cdc     \t3761, 31.9%\t61.1%\t\t23.8%\n",
      "sepsis_nqf     \t1302, 11.0%\t64.7%\t\t32.1%\n"
     ]
    }
   ],
   "source": [
    "# list probability of outcome for each score\n",
    "scores = ['suspicion_poe','sofa>=2',\n",
    "          'sepsis-3',\n",
    "          'sepsis_angus','sepsis_martin','sepsis_explicit',\n",
    "          'sepsis_cdc','sepsis_nqf']\n",
    "\n",
    "scores_dict = {\n",
    "    'suspicion_poe': 'Suspected infection',\n",
    "    'sofa>=2': 'SOFA >= 2',\n",
    "    'sepsis-3': 'Sepsis-3',\n",
    "    'sepsis_angus': 'Angus et al. criteria',\n",
    "    'sepsis_martin': 'Martin et al. criteria',\n",
    "    'sepsis_explicit': 'Explicit',\n",
    "    'sepsis_cdc': 'CDC',\n",
    "    'sepsis_nqf': 'CMS'\n",
    "}\n",
    "target_header = \"hospital_expire_flag\"\n",
    "idx = df[target_header]==1\n",
    "\n",
    "print()\n",
    "print('=== {} ==='.format(target_header))\n",
    "print()\n",
    "print('{:15s}\\t{:8s}\\t{:5s}\\t{:5s}'.format(\n",
    "    'Criteria','N','p(death|c)', 'p(death|~c)'))\n",
    "for c in scores:\n",
    "    print('{:15s}\\t{:4d}, {:2.1f}%\\t{:2.1f}%\\t\\t{:2.1f}%'.format(\n",
    "            c,\n",
    "            np.sum( df[c]==1 ),\n",
    "            np.sum( df[c]==1 )*100.0/df.shape[0],\n",
    "            np.sum( (df[c]==1)&idx )*100.0 / np.sum( df[c]==1 ),\n",
    "            np.sum( (df[c]!=1)&idx )*100.0 / np.sum( df[c]!=1 )\n",
    "        ))\n",
    "    \n",
    "target_header = \"composite_outcome\"\n",
    "idx = df[target_header]==1\n",
    "\n",
    "print()\n",
    "print('=== {} ==='.format(target_header))\n",
    "print()\n",
    "\n",
    "print('{:15s}\\t{:8s}\\t{:5s}\\t{:5s}'.format(\n",
    "    'Criteria','N','p(death|c)', 'p(death|~c)'))\n",
    "for c in scores:\n",
    "    print('{:15s}\\t{:4d}, {:2.1f}%\\t{:2.1f}%\\t\\t{:2.1f}%'.format(\n",
    "            c,\n",
    "            np.sum( df[c]==1 ),\n",
    "            np.sum( df[c]==1 )*100.0/df.shape[0],\n",
    "            np.sum( (df[c]==1)&idx )*100.0 / np.sum( df[c]==1 ),\n",
    "            np.sum( (df[c]!=1)&idx )*100.0 / np.sum( df[c]!=1 )\n",
    "        ))"
   ]
  },
  {
   "cell_type": "code",
   "execution_count": 7,
   "metadata": {},
   "outputs": [
    {
     "data": {
      "image/png": "[encoded data removed]",
      "text/plain": [
       "<Figure size 432x288 with 1 Axes>"
      ]
     },
     "metadata": {},
     "output_type": "display_data"
    },
    {
     "name": "stdout",
     "output_type": "stream",
     "text": [
      "\n",
      "Criteria       \tN       \tp(death|c)\tp(death|~c)\tp(comp|c)\tp(comp|~c)\n",
      "sofa>=2        \t8868, 75.2%\t13.2%\t\t3.6%\t\t41.2%\t\t19.2%\n",
      "suspicion_poe  \t7061, 59.9%\t12.5%\t\t8.3%\t\t46.3%\t\t19.9%\n",
      "sepsis-3       \t5784, 49.1%\t14.5%\t\t7.3%\t\t50.0%\t\t21.9%\n",
      "sepsis_cdc     \t3761, 31.9%\t18.6%\t\t7.2%\t\t61.1%\t\t23.8%\n",
      "sepsis_angus   \t3368, 28.6%\t17.9%\t\t8.0%\t\t61.2%\t\t25.5%\n",
      "sepsis_martin  \t1734, 14.7%\t22.7%\t\t8.8%\t\t60.1%\t\t31.5%\n",
      "sepsis_nqf     \t1302, 11.0%\t27.2%\t\t8.8%\t\t64.7%\t\t32.1%\n",
      "sepsis_explicit\t1062, 9.0%\t30.1%\t\t8.9%\t\t70.7%\t\t32.2%\n"
     ]
    }
   ],
   "source": [
    "# create a figure of the above frequencies\n",
    "scores = ['suspicion_poe','sofa>=2',\n",
    "          'sepsis-3',\n",
    "          'sepsis_angus','sepsis_martin','sepsis_explicit',\n",
    "          'sepsis_cdc','sepsis_nqf']\n",
    "\n",
    "scores_dict = {\n",
    "    'suspicion_poe': 'Suspected infection',\n",
    "    'sofa>=2': 'SOFA >= 2',\n",
    "    'sepsis-3': 'Sepsis-3',\n",
    "    'sepsis_angus': 'Angus et al. criteria',\n",
    "    'sepsis_martin': 'Martin et al. criteria',\n",
    "    'sepsis_explicit': 'Explicit',\n",
    "    'sepsis_cdc': 'CDC',\n",
    "    'sepsis_nqf': 'CMS'\n",
    "}\n",
    "\n",
    "idx = df['hospital_expire_flag']==1\n",
    "idxComp = df['composite_outcome']==1\n",
    "\n",
    "score_plot = np.zeros( [len(scores), 3] )\n",
    "for i, c in enumerate(scores):\n",
    "    # proportion of patients\n",
    "    score_plot[i, 0] = np.sum( df[c]==1 )*100.0/df.shape[0]\n",
    "    \n",
    "    # with mort\n",
    "    score_plot[i, 1] = np.sum( (df[c]==1)&idx )*100.0 / np.sum( df[c]==1 )\n",
    "    # with comp\n",
    "    score_plot[i, 2] = np.sum( (df[c]==1)&idxComp )*100.0 / np.sum( df[c]==1 )\n",
    "    \n",
    "S = len(scores)\n",
    "\n",
    "idxSort = np.argsort(score_plot[:,0])\n",
    "plt.figure()\n",
    "plt.barh( range(S), score_plot[idxSort,0], color=col[1], align='center')\n",
    "plt.barh( range(S), score_plot[idxSort,0]*score_plot[idxSort,2]/100.0, color=col[3], align='center', height=0.6)\n",
    "plt.barh( range(S), score_plot[idxSort,0]*score_plot[idxSort,1]/100.0, color=col[0], align='center', height=0.4)\n",
    "\n",
    "plt.yticks(range(S), [scores_dict[scores[x]] for x in idxSort])\n",
    "plt.xlabel('Percentage of patients')\n",
    "plt.xlim([0,100])\n",
    "plt.show()\n",
    "\n",
    "print('')\n",
    "print('{:15s}\\t{:8s}\\t{:5s}\\t{:5s}\\t{:5s}\\t{:5s}'.format(\n",
    "    'Criteria','N','p(death|c)', 'p(death|~c)', 'p(comp|c)', 'p(comp|~c)'))\n",
    "for i in idxSort[-1::-1]:\n",
    "    c=scores[i]\n",
    "    print('{:15s}\\t{:4d}, {:2.1f}%\\t{:2.1f}%\\t\\t{:2.1f}%\\t\\t{:2.1f}%\\t\\t{:2.1f}%'.format(\n",
    "            c,\n",
    "            np.sum( df[c]==1 ),\n",
    "            np.sum( df[c]==1 )*100.0/df.shape[0],\n",
    "            np.sum( (df[c]==1)&idx )*100.0 / np.sum( df[c]==1 ),\n",
    "            np.sum( (df[c]!=1)&idx )*100.0 / np.sum( df[c]!=1 ),\n",
    "            np.sum( (df[c]==1)&idxComp )*100.0 / np.sum( df[c]==1 ),\n",
    "            np.sum( (df[c]!=1)&idxComp )*100.0 / np.sum( df[c]!=1 )\n",
    "        ))\n",
    "    "
   ]
  },
  {
   "cell_type": "code",
   "execution_count": 7,
   "metadata": {},
   "outputs": [
    {
     "data": {
      "image/png": "[encoded data removed]",
      "text/plain": [
       "<matplotlib.figure.Figure at 0x7f3b8ecdbb10>"
      ]
     },
     "metadata": {},
     "output_type": "display_data"
    }
   ],
   "source": [
    "# print the frequencies\n",
    "# list probability of outcome for each score\n",
    "scores = ['suspicion_poe','sofa>=2',\n",
    "          'sepsis-3',\n",
    "          'sepsis_angus','sepsis_martin','sepsis_explicit',\n",
    "          'sepsis_cdc','sepsis_nqf']\n",
    "\n",
    "scores_dict = {\n",
    "    'suspicion_poe': 'Suspected infection',\n",
    "    'sofa>=2': 'SOFA >= 2',\n",
    "    'sepsis-3': 'Sepsis-3',\n",
    "    'sepsis_angus': 'Angus et al. criteria',\n",
    "    'sepsis_martin': 'Martin et al. criteria',\n",
    "    'sepsis_explicit': 'Explicit',\n",
    "    'sepsis_cdc': 'CDC',\n",
    "    'sepsis_nqf': 'CMS'\n",
    "}\n",
    "\n",
    "idx = df['hospital_expire_flag']==1\n",
    "idxComp = df['composite_outcome']==1\n",
    "\n",
    "score_plot = np.zeros( [len(scores), 3] )\n",
    "for i, c in enumerate(scores):\n",
    "    # proportion of patients\n",
    "    score_plot[i, 0] = np.sum( df[c]==1 )*100.0/df.shape[0]\n",
    "    \n",
    "    # with mort\n",
    "    score_plot[i, 1] = np.sum((df[c]==1)&idx)*100.0 / np.sum( df[c]==1 )\n",
    "    # with comp\n",
    "    score_plot[i, 2] = np.sum( (df[c]==1)&idxComp )*100.0 / np.sum( df[c]==1 )\n",
    "    \n",
    "S = len(scores)\n",
    "\n",
    "idxSort = np.argsort(score_plot[:,0])\n",
    "\n",
    "plt.figure()\n",
    "plt.barh( range(S), score_plot[idxSort,0], color=col[1], align='center', label='Patients')\n",
    "#plt.barh( range(S), score_plot[idxSort,2], color=col[3], align='center', height=0.6)\n",
    "plt.barh( range(S), score_plot[idxSort,1], color=col[0], align='center', height=0.4, label='Patients who died')\n",
    "#ax2.set_xlim(ax2.get_xlim()[::-1])\n",
    "\n",
    "#plt.plot( score_plot[idxSort,1], range(S), color=col[0], marker='o', markersize=10)\n",
    "#ax1.barh( range(S), score_plot[idxSort,0]*score_plot[idxSort,2]/100.0, color=col[3], align='center', height=0.6)\n",
    "#\n",
    "#ax2 = ax1.twiny()\n",
    "#ax2.barh( range(S), (score_plot[idxSort,0]*score_plot[idxSort,1]/100.0), color=col[0], align='center', height=0.4)\n",
    "#ax2.set_xlim(ax2.get_xlim()[::-1])\n",
    "#ax2.plot(range(S), score_plot[idxSort,0]*score_plot[idxSort,1]/100.0, color=col[0] )\n",
    "\n",
    "plt.yticks(range(S), [scores_dict[scores[x]] for x in idxSort])\n",
    "plt.xlabel('Percentage of patients')\n",
    "#plt.legend(loc='lower right')\n",
    "plt.xlim([0,100])\n",
    "plt.show()"
   ]
  },
  {
   "cell_type": "code",
   "execution_count": 8,
   "metadata": {},
   "outputs": [
    {
     "data": {
      "text/html": [
       "<table border=\"1\" class=\"dataframe\">\n",
       "  <thead>\n",
       "    <tr style=\"text-align: right;\">\n",
       "      <th></th>\n",
       "      <th>Criteria</th>\n",
       "      <th>N</th>\n",
       "      <th>p(death|c)</th>\n",
       "      <th>p(death|~c)</th>\n",
       "      <th>p(comp|c)</th>\n",
       "      <th>p(comp|~c)</th>\n",
       "    </tr>\n",
       "  </thead>\n",
       "  <tbody>\n",
       "    <tr>\n",
       "      <th>SOFA &gt;= 2</th>\n",
       "      <td>8868.0</td>\n",
       "      <td>75.21</td>\n",
       "      <td>13.22</td>\n",
       "      <td>3.59</td>\n",
       "      <td>41.16</td>\n",
       "      <td>19.19</td>\n",
       "    </tr>\n",
       "    <tr>\n",
       "      <th>Suspected infection</th>\n",
       "      <td>7061.0</td>\n",
       "      <td>59.88</td>\n",
       "      <td>12.55</td>\n",
       "      <td>8.27</td>\n",
       "      <td>46.34</td>\n",
       "      <td>19.85</td>\n",
       "    </tr>\n",
       "    <tr>\n",
       "      <th>Sepsis-3</th>\n",
       "      <td>5784.0</td>\n",
       "      <td>49.05</td>\n",
       "      <td>14.45</td>\n",
       "      <td>7.34</td>\n",
       "      <td>50.03</td>\n",
       "      <td>21.92</td>\n",
       "    </tr>\n",
       "    <tr>\n",
       "      <th>CDC</th>\n",
       "      <td>3761.0</td>\n",
       "      <td>31.90</td>\n",
       "      <td>18.64</td>\n",
       "      <td>7.17</td>\n",
       "      <td>61.07</td>\n",
       "      <td>23.84</td>\n",
       "    </tr>\n",
       "    <tr>\n",
       "      <th>Angus et al. criteria</th>\n",
       "      <td>3368.0</td>\n",
       "      <td>28.56</td>\n",
       "      <td>17.90</td>\n",
       "      <td>8.00</td>\n",
       "      <td>61.19</td>\n",
       "      <td>25.53</td>\n",
       "    </tr>\n",
       "    <tr>\n",
       "      <th>Martin et al. criteria</th>\n",
       "      <td>1734.0</td>\n",
       "      <td>14.71</td>\n",
       "      <td>22.72</td>\n",
       "      <td>8.78</td>\n",
       "      <td>60.09</td>\n",
       "      <td>31.51</td>\n",
       "    </tr>\n",
       "    <tr>\n",
       "      <th>CMS</th>\n",
       "      <td>1302.0</td>\n",
       "      <td>11.04</td>\n",
       "      <td>27.19</td>\n",
       "      <td>8.80</td>\n",
       "      <td>64.75</td>\n",
       "      <td>32.11</td>\n",
       "    </tr>\n",
       "    <tr>\n",
       "      <th>Explicit</th>\n",
       "      <td>1062.0</td>\n",
       "      <td>9.01</td>\n",
       "      <td>30.13</td>\n",
       "      <td>8.92</td>\n",
       "      <td>70.72</td>\n",
       "      <td>32.25</td>\n",
       "    </tr>\n",
       "  </tbody>\n",
       "</table>"
      ],
      "text/plain": [
       "<IPython.core.display.HTML object>"
      ]
     },
     "metadata": {},
     "output_type": "display_data"
    }
   ],
   "source": [
    "# create a dataframe for these probabilities\n",
    "df_outcome = pd.DataFrame(columns=['Criteria','N','p(death|c)', 'p(death|~c)', 'p(comp|c)', 'p(comp|~c)'], dtype=float)\n",
    "# same print but to csv\n",
    "for i in idxSort[-1::-1]:\n",
    "    c=scores[i]\n",
    "    df_outcome.loc[scores_dict[c], :] = [np.sum( df[c]==1 ),\n",
    "            np.sum( df[c]==1 )*100.0/df.shape[0],\n",
    "            np.sum( (df[c]==1)&idx )*100.0 / np.sum( df[c]==1 ),\n",
    "            np.sum( (df[c]!=1)&idx )*100.0 / np.sum( df[c]!=1 ),\n",
    "            np.sum( (df[c]==1)&idxComp )*100.0 / np.sum( df[c]==1 ),\n",
    "            np.sum( (df[c]!=1)&idxComp )*100.0 / np.sum( df[c]!=1 )]\n",
    "    #print('{},{:4d} {:2.1f}%,{:2.1f}%,{:2.1f}%,{:2.1f}%,{:2.1f}%'.format(\n",
    "    #    ))\n",
    "    \n",
    "# display .. maximum of 2 decimal places\n",
    "display(HTML(df_outcome.round(decimals=2).to_html()))"
   ]
  },
  {
   "cell_type": "code",
   "execution_count": 9,
   "metadata": {},
   "outputs": [
    {
     "name": "stdout",
     "output_type": "stream",
     "text": [
      "Comparison to past literature performance.\n"
     ]
    },
    {
     "data": {
      "text/html": [
       "<table border=\"1\" class=\"dataframe\">\n",
       "  <thead>\n",
       "    <tr style=\"text-align: right;\">\n",
       "      <th></th>\n",
       "      <th>hospital_expire_flag</th>\n",
       "      <th>composite_outcome</th>\n",
       "    </tr>\n",
       "  </thead>\n",
       "  <tbody>\n",
       "    <tr>\n",
       "      <th>Seymour et al., 2016</th>\n",
       "      <td>0.74 [0.73 - 0.76]</td>\n",
       "      <td>~0.74 (inferred from eFigure 6)</td>\n",
       "    </tr>\n",
       "    <tr>\n",
       "      <th>Raith et al., 2017</th>\n",
       "      <td>0.753 [0.750 - 0.757]</td>\n",
       "      <td>0.736 [0.733 - 0.739]</td>\n",
       "    </tr>\n",
       "    <tr>\n",
       "      <th>Our results</th>\n",
       "      <td>0.740 [0.722 - 0.759]</td>\n",
       "      <td>0.688 [0.676 - 0.701]</td>\n",
       "    </tr>\n",
       "  </tbody>\n",
       "</table>"
      ],
      "text/plain": [
       "<IPython.core.display.HTML object>"
      ]
     },
     "metadata": {},
     "output_type": "display_data"
    }
   ],
   "source": [
    "# note: we need to subselect to the cohort suspected of infection in order to compare AUROCs to previous literature\n",
    "idx = df['suspicion_poe'].values == 1\n",
    "pred_header = 'sofa'\n",
    "\n",
    "print('Comparison to past literature performance.')\n",
    "#print'{}'\n",
    "\n",
    "\n",
    "df_past_literature = pd.DataFrame(columns=['hospital_expire_flag','composite_outcome'])\n",
    "df_past_literature.loc['Seymour et al., 2016',:] = ['0.74 [0.73 - 0.76]', '~0.74 (inferred from eFigure 6)']\n",
    "df_past_literature.loc['Raith et al., 2017',:] = ['0.753 [0.750 - 0.757]', '0.736 [0.733 - 0.739]']\n",
    "np.random.seed(7891)\n",
    "# AUROC of sofa for in-hospital mortality\n",
    "target_header = 'hospital_expire_flag'\n",
    "auc_hosp, ci_hosp = ru.calc_auc(df.loc[idx, pred_header].values, df.loc[idx, target_header].values, with_ci=True)\n",
    "target_header = 'composite_outcome'\n",
    "auc_comp, ci_comp = ru.calc_auc(df.loc[idx, pred_header].values, df.loc[idx, target_header].values, with_ci=True)\n",
    "\n",
    "df_past_literature.loc['Our results', :] = ['{:0.3f} [{:0.3f} - {:0.3f}]'.format(auc_hosp, ci_hosp[0], ci_hosp[1]),\n",
    "                                           '{:0.3f} [{:0.3f} - {:0.3f}]'.format(auc_comp, ci_comp[0], ci_comp[1])]\n",
    "\n",
    "\n",
    "display(HTML(df_past_literature.to_html()))"
   ]
  },
  {
   "cell_type": "markdown",
   "metadata": {},
   "source": [
    "In the above, it is worth noting that:\n",
    "\n",
    "* The results of Seymour et al. are for a model incorporating age, gender, race, and comorbid status\n",
    "* The results of Raith et al. are for the uncalibrated univariable score (\"crude\")"
   ]
  },
  {
   "cell_type": "code",
   "execution_count": 10,
   "metadata": {},
   "outputs": [
    {
     "name": "stdout",
     "output_type": "stream",
     "text": [
      "Metric\n",
      "\n",
      "     \tSOFA>=2 \n",
      "TN   \t 2362\n",
      "FP   \t 5218\n",
      "FN   \t  561\n",
      "TP   \t 3650\n",
      "Sens \t87 [86, 88]\n",
      "Spec \t31 [30, 32]\n",
      "PPV  \t41 [40, 42]\n",
      "NPV  \t81 [79, 82]\n",
      "F1   \t 55.81   \n",
      "NTP  \t 30.96   \n",
      "NFP  \t 44.25   \n"
     ]
    }
   ],
   "source": [
    "# operating point statistics on sofa >= 2\n",
    "yhat_dict = OrderedDict([['SOFA>=2', df['sofa>=2']]\n",
    "                        ])\n",
    "stats_all = su.get_op_stats(yhat_dict, df[target_header].values)\n",
    "su.print_op_stats(stats_all)"
   ]
  },
  {
   "cell_type": "markdown",
   "metadata": {},
   "source": [
    "# Sepsis\n",
    "\n",
    "Create the sepsis-3 criteria: SOFA >= 2 and suspicion of infection."
   ]
  },
  {
   "cell_type": "code",
   "execution_count": 11,
   "metadata": {},
   "outputs": [
    {
     "name": "stdout",
     "output_type": "stream",
     "text": [
      "11791 (100.00%)  first ICU stay for adults.\n",
      " 7061 (59.88%)  suspected of infection\n",
      " 2803 (23.77%)  with a positive blood culture\n",
      "\n",
      " 7061 (59.88%) - suspicion_poe\n"
     ]
    }
   ],
   "source": [
    "print('{:5g} ({:3.2f}%)  first ICU stay for adults.'.format(\n",
    "        df['icustay_id'].count(), 100))\n",
    "print('{:5g} ({:3.2f}%)  suspected of infection'.format(\n",
    "        np.sum(df['suspicion_poe']),\n",
    "        np.sum(df['suspicion_poe'])*100.0/df.shape[0]))\n",
    "print('{:5g} ({:3.2f}%)  with a positive blood culture'.format(\n",
    "    df['blood_culture_positive'].sum(), df['blood_culture_positive'].sum()*100.0/df.shape[0]))\n",
    "\n",
    "print()\n",
    "for i, c in enumerate(labels):\n",
    "    print('{:5g} ({:3.2f}%) - {}'.format(\n",
    "        df[c].sum(), df[c].sum()*100.0/df.shape[0], c))"
   ]
  },
  {
   "cell_type": "markdown",
   "metadata": {},
   "source": [
    "## Venn diagrams of Sepsis-3 against other criteria"
   ]
  },
  {
   "cell_type": "code",
   "execution_count": 12,
   "metadata": {},
   "outputs": [
    {
     "data": {
      "image/png": "[encoded data removed]",
      "text/plain": [
       "<matplotlib.figure.Figure at 0x7f3b8ecdbb10>"
      ]
     },
     "metadata": {},
     "output_type": "display_data"
    },
    {
     "name": "stdout",
     "output_type": "stream",
     "text": [
      "1420 patients (12.0%) satisfied all criteria.\n",
      "5448 patients (46.2%) satisfied no criteria.\n",
      "12.9% (1522) - sepsis_angus & sepsis_martin\n",
      "13.3% (1574) - sepsis-3 & sepsis_martin\n",
      "24.3% (2867) - sepsis-3 & sepsis_angus\n"
     ]
    },
    {
     "data": {
      "image/png": "[encoded data removed]",
      "text/plain": [
       "<matplotlib.figure.Figure at 0x7f3bbc8f0fd0>"
      ]
     },
     "metadata": {},
     "output_type": "display_data"
    },
    {
     "name": "stdout",
     "output_type": "stream",
     "text": [
      "1062 patients (9.0%) satisfied all criteria.\n",
      "5715 patients (48.5%) satisfied no criteria.\n",
      "9.2% (1084) - sepsis_cdc & sepsis_nqf\n",
      "10.4% (1228) - sepsis-3 & sepsis_nqf\n",
      "29.9% (3521) - sepsis-3 & sepsis_cdc\n"
     ]
    }
   ],
   "source": [
    "# define labels here\n",
    "# first label = red (top left)\n",
    "# second label = green (top right)\n",
    "# third label = blue (bottom)\n",
    "\n",
    "venn_labels = OrderedDict([\n",
    "        ['sepsis_martin', 'Martin criteria'],\n",
    "        ['sepsis_angus', 'Angus criteria'],\n",
    "        ['sepsis-3', 'Sepsis-3 criteria']\n",
    "    ])\n",
    "su.create_venn_diagram(df, venn_labels)\n",
    "\n",
    "venn_labels = OrderedDict([\n",
    "        ['sepsis_nqf', 'CMS'],\n",
    "        ['sepsis_cdc', 'CDC'],\n",
    "        ['sepsis-3', 'Sepsis-3']\n",
    "    ])\n",
    "su.create_venn_diagram(df, venn_labels)"
   ]
  },
  {
   "cell_type": "markdown",
   "metadata": {},
   "source": [
    "# Mortality rates for each group"
   ]
  },
  {
   "cell_type": "code",
   "execution_count": 13,
   "metadata": {},
   "outputs": [
    {
     "name": "stdout",
     "output_type": "stream",
     "text": [
      "0               dead            alive          \n",
      "sepsis_angus     674 5.7%\t 7749 65.7%  8.0%\n",
      "sepsis_martin    883 7.5%\t 9174 77.8%  8.8%\n",
      "sepsis_explicit  957 8.1%\t 9772 82.9%  8.9%\n",
      "suspicion_poe    391 3.3%\t 4339 36.8%  8.3%\n",
      "sepsis-3         441 3.7%\t 5566 47.2%  7.3%\n",
      "sofa>=2          105 0.9%\t 2818 23.9%  3.6%\n",
      "\n",
      "1\n",
      "sepsis_angus     603 5.1%\t 2765 23.5%  17.9%\n",
      "sepsis_martin    394 3.3%\t 1340 11.4%  22.7%\n",
      "sepsis_explicit  320 2.7%\t  742 6.3%  30.1%\n",
      "suspicion_poe    886 7.5%\t 6175 52.4%  12.5%\n",
      "sepsis-3         836 7.1%\t 4948 42.0%  14.5%\n",
      "sofa>=2         1172 9.9%\t 7696 65.3%  13.2%\n"
     ]
    }
   ],
   "source": [
    "target_header = \"hospital_expire_flag\"\n",
    "idx = df[target_header]==1\n",
    "\n",
    "# make a confusion matrix with multiple scores in each square\n",
    "scores = ['sepsis_angus','sepsis_martin','sepsis_explicit','suspicion_poe','sepsis-3','sofa>=2']\n",
    "\n",
    "print('{:15s} {:15s} {:15s}'.format('0','dead','alive','outcome %'))\n",
    "\n",
    "for c in scores:\n",
    "    print('{:15s} {:4d} {:1.1f}%\\t{:5d} {:1.1f}%  {:1.1f}%'.format(\n",
    "            c,\n",
    "            np.sum( (df[c]!=1)&idx ),  np.sum( (df[c]!=1)&idx )*100.0/df.shape[0],\n",
    "            np.sum( (df[c]!=1)&~idx ), np.sum( (df[c]!=1)&~idx )*100.0/df.shape[0],\n",
    "            np.sum( (df[c]!=1)&idx )*100.0/np.sum(df[c]!=1)\n",
    "        ))\n",
    "print()\n",
    "print('1')\n",
    "for c in scores:\n",
    "    print('{:15s} {:4d} {:1.1f}%\\t{:5d} {:1.1f}%  {:1.1f}%'.format(\n",
    "            c,\n",
    "            np.sum( (df[c]==1)&idx ),  np.sum( (df[c]==1)&idx )*100.0/df.shape[0],\n",
    "            np.sum( (df[c]==1)&~idx ), np.sum( (df[c]==1)&~idx )*100.0/df.shape[0],\n",
    "            np.sum( (df[c]==1)&idx )*100.0/np.sum(df[c]==1)\n",
    "        ))"
   ]
  },
  {
   "cell_type": "markdown",
   "metadata": {},
   "source": [
    "# Composite outcome for each group"
   ]
  },
  {
   "cell_type": "code",
   "execution_count": 14,
   "metadata": {},
   "outputs": [
    {
     "name": "stdout",
     "output_type": "stream",
     "text": [
      "0               dead/hi-LOS  alive/lo-LOS   \n",
      "sepsis_angus    2150 18.2%    6273 53.2%  25.5%\n",
      "sepsis_martin   3169 26.9%    6888 58.4%  31.5%\n",
      "sepsis_explicit 3460 29.3%    7269 61.6%  32.2%\n",
      "suspicion_poe    939 8.0%    3791 32.2%  19.9%\n",
      "sepsis-3        1317 11.2%    4690 39.8%  21.9%\n",
      "sofa>=2          561 4.8%    2362 20.0%  19.2%\n",
      "\n",
      "1\n",
      "sepsis_angus    2061 17.5%    1307 11.1%  61.2%\n",
      "sepsis_martin   1042 8.8%     692 5.9%  60.1%\n",
      "sepsis_explicit  751 6.4%     311 2.6%  70.7%\n",
      "suspicion_poe   3272 27.7%    3789 32.1%  46.3%\n",
      "sepsis-3        2894 24.5%    2890 24.5%  50.0%\n",
      "sofa>=2         3650 31.0%    5218 44.3%  41.2%\n"
     ]
    }
   ],
   "source": [
    "target_header = \"composite_outcome\"\n",
    "idx = (df['hospital_expire_flag']==1) | (df['icu_los']>=3)\n",
    "\n",
    "# make a confusion matrix with multiple scores in each square\n",
    "scores = ['sepsis_angus','sepsis_martin','sepsis_explicit','suspicion_poe','sepsis-3','sofa>=2']\n",
    "\n",
    "\n",
    "print('{:15s} {:12s} {:15s}'.format('0','dead/hi-LOS','alive/lo-LOS','outcome %'))\n",
    "\n",
    "for c in scores:\n",
    "    print('{:15s} {:4d} {:1.1f}%   {:5d} {:1.1f}%  {:1.1f}%'.format(\n",
    "            c,\n",
    "            np.sum( (df[c]!=1)&idx ),  np.sum( (df[c]!=1)&idx )*100.0/df.shape[0],\n",
    "            np.sum( (df[c]!=1)&~idx ), np.sum( (df[c]!=1)&~idx )*100.0/df.shape[0],\n",
    "            np.sum( (df[c]!=1)&idx )*100.0/np.sum(df[c]!=1)\n",
    "        ))\n",
    "print()\n",
    "print('1')\n",
    "for c in scores:\n",
    "    print('{:15s} {:4d} {:1.1f}%   {:5d} {:1.1f}%  {:1.1f}%'.format(\n",
    "            c,\n",
    "            np.sum( (df[c]==1)&idx ),  np.sum( (df[c]==1)&idx )*100.0/df.shape[0],\n",
    "            np.sum( (df[c]==1)&~idx ), np.sum( (df[c]==1)&~idx )*100.0/df.shape[0],\n",
    "            np.sum( (df[c]==1)&idx )*100.0/np.sum(df[c]==1)\n",
    "        ))"
   ]
  },
  {
   "cell_type": "markdown",
   "metadata": {},
   "source": [
    "# Mortality: operating point statistics"
   ]
  },
  {
   "cell_type": "code",
   "execution_count": 15,
   "metadata": {},
   "outputs": [
    {
     "name": "stdout",
     "output_type": "stream",
     "text": [
      "Metric\n",
      "\n",
      "     \tSOFA    \tSIRS    \tqSOFA   \n",
      "TN   \t 2818\t\t 1536\t\t 4031\n",
      "FP   \t 7696\t\t 8978\t\t 6483\n",
      "FN   \t  105\t\t   66\t\t  263\n",
      "TP   \t 1172\t\t 1211\t\t 1014\n",
      "Sens \t92 [90, 93]\t95 [93, 96]\t79 [77, 82]\n",
      "Spec \t27 [26, 28]\t15 [14, 15]\t38 [37, 39]\n",
      "PPV  \t13 [13, 14]\t12 [11, 13]\t14 [13, 14]\n",
      "NPV  \t96 [96, 97]\t96 [95, 97]\t94 [93, 95]\n",
      "F1   \t 23.10   \t 21.12   \t 23.11   \n",
      "NTP  \t 9.94   \t 10.27   \t 8.60   \n",
      "NFP  \t 65.27   \t 76.14   \t 54.98   \n"
     ]
    }
   ],
   "source": [
    "target_header = \"hospital_expire_flag\"\n",
    "\n",
    "# sepsis3 defined as qSOFA >= 2 and SOFA >= 2\n",
    "yhat_dict = OrderedDict([['SOFA', df.sofa.values >= 2],\n",
    "                        ['SIRS', df.sirs.values >= 2],\n",
    "                        ['qSOFA', df.qsofa.values >= 2]])\n",
    "\n",
    "stats_all = su.get_op_stats(yhat_dict, df[target_header].values)\n",
    "\n",
    "su.print_op_stats(stats_all)"
   ]
  },
  {
   "cell_type": "markdown",
   "metadata": {},
   "source": [
    "# Composite outcome: operating point statistics"
   ]
  },
  {
   "cell_type": "code",
   "execution_count": 16,
   "metadata": {},
   "outputs": [
    {
     "name": "stdout",
     "output_type": "stream",
     "text": [
      "Metric\n",
      "\n",
      "     \tSOFA    \tSIRS    \tqSOFA   \n",
      "TN   \t 2362\t\t 1302\t\t 3236\n",
      "FP   \t 5218\t\t 6278\t\t 4344\n",
      "FN   \t  561\t\t  300\t\t 1058\n",
      "TP   \t 3650\t\t 3911\t\t 3153\n",
      "Sens \t87 [86, 88]\t93 [92, 94]\t75 [74, 76]\n",
      "Spec \t31 [30, 32]\t17 [16, 18]\t43 [42, 44]\n",
      "PPV  \t41 [40, 42]\t38 [37, 39]\t42 [41, 43]\n",
      "NPV  \t81 [79, 82]\t81 [79, 83]\t75 [74, 77]\n",
      "F1   \t 55.81   \t 54.32   \t 53.86   \n",
      "NTP  \t 30.96   \t 33.17   \t 26.74   \n",
      "NFP  \t 44.25   \t 53.24   \t 36.84   \n"
     ]
    }
   ],
   "source": [
    "target_header = \"composite_outcome\"\n",
    "\n",
    "# sepsis3 defined as qSOFA >= 2 and SOFA >= 2\n",
    "yhat_dict = OrderedDict([['SOFA', df.sofa.values >= 2],\n",
    "                        ['SIRS', df.sirs.values >= 2],\n",
    "                        ['qSOFA', df.qsofa.values >= 2]])\n",
    "\n",
    "stats_all = su.get_op_stats(yhat_dict, df[target_header].values)\n",
    "\n",
    "su.print_op_stats(stats_all)"
   ]
  },
  {
   "cell_type": "markdown",
   "metadata": {},
   "source": [
    "# Severity of illness stats"
   ]
  },
  {
   "cell_type": "code",
   "execution_count": 17,
   "metadata": {},
   "outputs": [
    {
     "name": "stdout",
     "output_type": "stream",
     "text": [
      "11791 (100.0%) first ICU stay for adults.\n",
      "10189 (86.4%)  with sirs >= 2\n",
      " 7497 (63.6%)  with qsofa >= 2\n",
      " 8868 (75.2%)  with sofa >= 2\n",
      " 5784 (49.1%)  with sepsis-3\n",
      " 3368 (28.6%)  with sepsis_angus\n",
      " 1734 (14.7%)  with sepsis_martin\n",
      " 1062 (9.0%)  with sepsis_explicit\n"
     ]
    }
   ],
   "source": [
    "print('{:5g} ({:3.1f}%) first ICU stay for adults.'.format(\n",
    "        df['icustay_id'].count(), 100))\n",
    "for c in ['sirs','qsofa','sofa','sepsis-3',\n",
    "          'sepsis_angus','sepsis_martin','sepsis_explicit']:\n",
    "    if df[c].max() == 1:\n",
    "        print('{:5g} ({:3.1f}%)  with {}'.format(\n",
    "                (df[c]==1).sum(),\n",
    "                (df[c]==1).sum()*100.0/df.shape[0], c))\n",
    "    else:\n",
    "        print('{:5g} ({:3.1f}%)  with {} >= 2'.format(\n",
    "                (df[c]>=2).sum(),\n",
    "                (df[c]>=2).sum()*100.0/df.shape[0], c))"
   ]
  }
 ],
 "metadata": {
  "kernelspec": {
   "display_name": ".venv",
   "language": "python",
   "name": "python3"
  },
  "language_info": {
   "codemirror_mode": {
    "name": "ipython",
    "version": 3
   },
   "file_extension": ".py",
   "mimetype": "text/x-python",
   "name": "python",
   "nbconvert_exporter": "python",
   "pygments_lexer": "ipython3",
   "version": "3.7.9"
  }
 },
 "nbformat": 4,
 "nbformat_minor": 1
}
