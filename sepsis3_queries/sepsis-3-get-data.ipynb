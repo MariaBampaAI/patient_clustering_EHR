{
 "cells": [
  {
   "cell_type": "code",
   "execution_count": null,
   "metadata": {},
   "outputs": [],
   "source": [
    "# Import libraries\n",
    "from __future__ import print_function\n",
    "\n",
    "\n",
    "import numpy as np\n",
    "import pandas as pd\n",
    "import psycopg2\n",
    "import os\n",
    "import getpass\n",
    "\n",
    "from collections import OrderedDict\n",
    "\n",
    "# path to output data files to - can be relative to the current folder\n",
    "data_path = 'data'"
   ]
  },
  {
   "cell_type": "markdown",
   "metadata": {},
   "source": []
  },
  {
   "cell_type": "code",
   "execution_count": null,
   "metadata": {},
   "outputs": [],
   "source": [
    "psycopg2.__version__"
   ]
  },
  {
   "cell_type": "code",
   "execution_count": null,
   "metadata": {},
   "outputs": [],
   "source": [
    "# colours for prettier plots\n",
    "import matplotlib\n",
    "import matplotlib.pyplot as plt\n",
    "import colorsys\n",
    "def gg_color_hue(n):\n",
    "    hues = np.linspace(15, 375, n)\n",
    "    hsv_tuples = [(x*1.0/360.0, 0.5, 0.8) for x in hues]\n",
    "    rgb_tuples = map(lambda x: colorsys.hsv_to_rgb(*x), hsv_tuples)\n",
    "    return rgb_tuples\n",
    "\n",
    "marker = ['v','o','d','^','s','o','+']\n",
    "ls = ['-','-','-','-','-','s','--','--']\n",
    "\n",
    "# plot settings\n",
    "%matplotlib inline\n",
    "plt.style.use('ggplot')\n",
    "font = {'size'   : 20}\n",
    "matplotlib.rc('font', **font)"
   ]
  },
  {
   "cell_type": "code",
   "execution_count": null,
   "metadata": {},
   "outputs": [],
   "source": [
    "# helper function for generating tables\n",
    "# this rolls back the cursor if it fails\n",
    "def execute_query_safely(sql, con):\n",
    "    cur = con.cursor()\n",
    "    \n",
    "    # try to execute the query\n",
    "    try:\n",
    "        cur.execute(sql)\n",
    "    except:\n",
    "        # if an exception, rollback, rethrow the exception - finally closes the connection\n",
    "        cur.execute('rollback;')\n",
    "        raise\n",
    "    finally:\n",
    "        cur.close()\n",
    "    \n",
    "    return"
   ]
  },
  {
   "cell_type": "code",
   "execution_count": null,
   "metadata": {},
   "outputs": [],
   "source": [
    "sqluser = getpass.getuser()\n",
    "print('Using username {}'.format(sqluser))\n",
    "\n",
    "dbname = 'mimic'\n",
    "schema_name = 'mimiciii'\n",
    "query_schema = 'SET search_path to public,' + schema_name + ';'"
   ]
  },
  {
   "cell_type": "code",
   "execution_count": null,
   "metadata": {},
   "outputs": [],
   "source": [
    "# Connect to local postgres version of mimic\n",
    "con = psycopg2.connect(dbname=dbname, user=sqluser)\n",
    "\n",
    "print('Connected to postgres {}.{}.{}!'.format(int(con.server_version/10000),\n",
    "                                              (con.server_version - int(con.server_version/10000)*10000)/100,\n",
    "                                              (con.server_version - int(con.server_version/100)*100)))"
   ]
  },
  {
   "cell_type": "code",
   "execution_count": null,
   "metadata": {},
   "outputs": [],
   "source": [
    "# check if the sepsis3_cohort table exists ... if not we must generate it\n",
    "query = \"\"\"\n",
    "SELECT EXISTS(SELECT 1 FROM information_schema.tables \n",
    "              WHERE table_catalog = '{}'\n",
    "              AND table_schema in ('public','{}')\n",
    "              AND table_name = 'sepsis3');\n",
    "\"\"\".format(dbname, schema_name)\n",
    "tbl_exists = pd.read_sql_query(query, con)\n",
    "tbl_exists = tbl_exists.loc[0,'exists']\n",
    "if tbl_exists:\n",
    "    print('Found the `sepsis3` table. Skipping generation of data in SQL.')\n",
    "else:\n",
    "    print('Running SQL code to generate tables. This may take some time.')\n",
    "    \n",
    "    # read through the \"make-tables.sql\" file in the sql subfolder\n",
    "    query_path = 'query'\n",
    "    \n",
    "    with open(os.path.join(query_path, 'make-tables.sql'), 'r') as fp:\n",
    "        for line in fp.readlines():\n",
    "            if len(line)<2:\n",
    "                print(line,end='')\n",
    "                continue\n",
    "            \n",
    "            if line[0:2] != '\\i':\n",
    "                print(line,end='')\n",
    "                continue\n",
    "                \n",
    "            # lines which begin with '\\i' call SQL files that generate tables\n",
    "            query_file = os.path.join(query_path, line[3:].replace('\\n',''))\n",
    "            print('Running {} ...'.format(query_file), end=' ')\n",
    "            with open(query_file, 'r') as fp_query:\n",
    "                query = ''.join(fp_query.readlines())\n",
    "            execute_query_safely(query_schema + query, con)\n",
    "            print('done.')"
   ]
  },
  {
   "cell_type": "markdown",
   "metadata": {},
   "source": [
    "### Extract the text"
   ]
  },
  {
   "cell_type": "code",
   "execution_count": null,
   "metadata": {},
   "outputs": [],
   "source": [
    "# query = pd.read_sql(\n",
    "#     \"\"\"\n",
    "#     SELECT hadm_id, subject_id, chartdate, category, description, text\n",
    "#     FROM noteevents;\n",
    "#     \"\"\", con)\n",
    "\n",
    "\n",
    "\n",
    "# tex = pd.read_sql_query(query,con)\n",
    "# tex"
   ]
  },
  {
   "cell_type": "code",
   "execution_count": null,
   "metadata": {},
   "outputs": [],
   "source": [
    "query = query_schema + \"\"\"\n",
    "SELECT *\n",
    "FROM noteevents\n",
    "ORDER BY subject_id\"\"\"\n",
    "tex = pd.read_sql_query(query,con)\n",
    "tex\n",
    "# com.to_csv(os.path.join(data_path, 'diagnoses.csv'),sep=',',index=False)"
   ]
  },
  {
   "cell_type": "code",
   "execution_count": null,
   "metadata": {},
   "outputs": [],
   "source": [
    "# ## generate vasopressor doses\n",
    "\n",
    "# # read through the \"make-tables-vasopressor_doses.sql\" file in the sql subfolder\n",
    "# query_path = 'query'\n",
    "\n",
    "# with open(os.path.join(query_path, 'make-tables-vasopressor_doses.sql'), 'r') as fp:\n",
    "#     for line in fp.readlines():\n",
    "#         if len(line)<2:\n",
    "#             print(line,end='')\n",
    "#             continue\n",
    "        \n",
    "#         if line[0:2] != '\\i':\n",
    "#             print(line,end='')\n",
    "#             continue\n",
    "            \n",
    "#         # lines which begin with '\\i' call SQL files that generate tables\n",
    "#         query_file = os.path.join(query_path, line[3:].replace('\\n',''))\n",
    "#         print('Running {} ...'.format(query_file), end=' ')\n",
    "#         with open(query_file, 'r') as fp_query:\n",
    "#             query = ''.join(fp_query.readlines())\n",
    "#         execute_query_safely(query_schema + query, con)\n",
    "#         print('done.')"
   ]
  },
  {
   "cell_type": "code",
   "execution_count": null,
   "metadata": {},
   "outputs": [],
   "source": [
    "## aggregated to ts \n",
    "## labs_first_day, fixed\n",
    "## urine_output, fixed\n",
    "## vitals_first_day, fixed\n",
    "\n",
    "## already ts\n",
    "## blood_gas_first_day\n",
    "## blood_gas_first_day_arterial\n",
    "\n",
    "## vasopressors only have duration in hours, we created new tables to extract the dosage, but it needs preprocessing\n",
    "\n",
    "\n",
    "## static:\n",
    "## comorbidities elix\n",
    "## demographics\n",
    "\n",
    "# query = query_schema + \"select * from sepsis3_cohort\"\n",
    "# co = pd.read_sql_query(query,con)\n",
    "# co "
   ]
  },
  {
   "cell_type": "code",
   "execution_count": null,
   "metadata": {},
   "outputs": [],
   "source": [
    "# exclusion criteria:\n",
    "#   - less than 16 years old\n",
    "#   - never have any chartevents data (i.e. likely administrative error)\n",
    "#   - not cardiac surgery\n",
    "#   - suspected of infection\n",
    "#   - first ICU stay\n",
    "#   - not a CareVue patient (i.e. admitted 2008-2012)\n",
    "# these exclusion criteria are created in the sepsis3_cohort table\n",
    "query = query_schema + \"select * from sepsis3_cohort\"\n",
    "co = pd.read_sql_query(query,con)"
   ]
  },
  {
   "cell_type": "code",
   "execution_count": null,
   "metadata": {},
   "outputs": [],
   "source": [
    "co"
   ]
  },
  {
   "cell_type": "markdown",
   "metadata": {},
   "source": [
    "# Exclusions - applied independently"
   ]
  },
  {
   "cell_type": "code",
   "execution_count": null,
   "metadata": {},
   "outputs": [],
   "source": [
    "# print out the exclusions\n",
    "print('Cohort - initial size: {} ICU stays'.format(co.shape[0]))\n",
    "idxRem = np.zeros(co.shape[0])\n",
    "for c in co.columns:\n",
    "    if c.startswith('exclusion_'):\n",
    "        print('  {:5g} ({:2.2f}%) - {}'.format(np.sum(co[c]),np.mean(co[c])*100.0, c))\n",
    "        idxRem[co[c].values==1] = 1\n",
    "        \n",
    "print('Final cohort size: {} ICU stays ({:2.2f}%).'.format(co.shape[0] - np.sum(idxRem), (1-np.mean(idxRem))*100.0))"
   ]
  },
  {
   "cell_type": "markdown",
   "metadata": {},
   "source": [
    "# Exclusions - applied sequentially"
   ]
  },
  {
   "cell_type": "code",
   "execution_count": null,
   "metadata": {},
   "outputs": [],
   "source": [
    "# print out the exclusions *SEQUENTIALLY* - i.e. if already excluded, don't re-print\n",
    "print('Cohort - initial size: {} ICU stays'.format(co.shape[0]))\n",
    "\n",
    "COL_REM = ['exclusion_nonadult', 'exclusion_secondarystay',\n",
    "           'exclusion_csurg','exclusion_carevue',\n",
    "           'exclusion_early_suspicion', 'exclusion_late_suspicion', 'exclusion_bad_data']\n",
    "\n",
    "idxRem = np.zeros(co.shape[0])\n",
    "for c in COL_REM:\n",
    "    N_REM = np.sum( (idxRem == 0) & (co[c].values==1) )\n",
    "    print('  {:5g} ({:2.2f}%) - {}'.format(N_REM,N_REM*100.0/co.shape[0], c))\n",
    "    idxRem[co[c].values==1] = 1\n",
    "        \n",
    "print('Final non-suspected cohort size: {:g} ICU stays ({:2.2f}%).'.format(co.shape[0] - np.sum(idxRem), (1-np.mean(idxRem))*100.0))\n",
    "\n",
    "print()\n",
    "# define idxRem to exclude non-metavision admissions initially\n",
    "print('=============================')\n",
    "print('====== METAVISION ONLY ======')\n",
    "print(' Patients admitted 2008-2012 ')\n",
    "print('=============================')\n",
    "print()\n",
    "\n",
    "idxRem = co['dbsource']!='metavision'\n",
    "N = np.sum(~idxRem)\n",
    "N_IGNORE = np.sum(idxRem)\n",
    "\n",
    "# print out the exclusions *SEQUENTIALLY* - i.e. if already excluded, don't re-print\n",
    "print('Cohort - initial size: {} ICU stays'.format(N))\n",
    "\n",
    "for c in COL_REM:\n",
    "    N_REM = np.sum( (idxRem == 0) & (co[c].values==1) )\n",
    "    print('  {:5g} ({:2.2f}%) - {}'.format(N_REM,N_REM*100.0/N, c))\n",
    "    idxRem[co[c].values==1] = True\n",
    "        \n",
    "print('Final non-suspected cohort size: {}/{} ICU stays ({:2.2f}%).'.format(\n",
    "        np.sum(~idxRem), N, np.sum(~idxRem)*100.0/N))\n",
    "print('')\n",
    "\n",
    "print('Of these patients...')\n",
    "c='suspected_of_infection_poe'\n",
    "N_REM = np.sum( (~idxRem) & (co[c].values==1) )\n",
    "print('  {:5g} ({:2.2f}%) - {}'.format(N_REM, N_REM*100.0/ np.sum(~idxRem), c))"
   ]
  },
  {
   "cell_type": "markdown",
   "metadata": {},
   "source": [
    "# Histogram of time of suspected infection"
   ]
  },
  {
   "cell_type": "code",
   "execution_count": null,
   "metadata": {},
   "outputs": [],
   "source": [
    "# generate exclusions *except* early/late suspicion\n",
    "COL_REM = ['exclusion_nonadult', 'exclusion_secondarystay',\n",
    "           'exclusion_csurg','exclusion_carevue',\n",
    "           #'exclusion_early_suspicion', 'exclusion_late_suspicion',\n",
    "           'exclusion_bad_data']\n",
    "idxRem = np.zeros(co.shape[0])\n",
    "for c in COL_REM:\n",
    "    N_REM = np.sum( (idxRem == 0) & (co[c].values==1) )\n",
    "    idxRem[co[c].values==1] = 1\n",
    "    \n",
    "idxRem = idxRem.astype(bool)\n",
    "\n",
    "# distribution of time of infection\n",
    "N_HR = 96\n",
    "xi = np.linspace(-N_HR, N_HR, N_HR*2+1)\n",
    "col = gg_color_hue(5)\n",
    "\n",
    "pretty_dict = {'suspected_infection_time_poe_days': 'Blood culture + ABX'}\n",
    "c = 'suspected_infection_time_poe_days'\n",
    "\n",
    "idxKeep = ~co[c].isnull()\n",
    "tmp = co.loc[~idxRem & idxKeep, c].values * 24.0\n",
    "N_firstday = sum( (tmp>-24) & (tmp<24) )\n",
    "\n",
    "lbl_str = pretty_dict[c]\n",
    "lbl_str += '\\n' + '{:2.2f}% of grp >  24hr.'.format(sum(tmp>24)*100.0 / np.sum(~idxRem & idxKeep))\n",
    "lbl_str += '\\n' + '{:2.2f}% of grp  +-24hr.'.format(sum((tmp>=-24) & (tmp<=24))*100.0 / np.sum(~idxRem & idxKeep))\n",
    "lbl_str += '\\n' + '{:2.2f}% of grp < -24hr.'.format(sum(tmp<-24)*100.0 / np.sum(~idxRem & idxKeep))\n",
    "\n",
    "plt.figure(figsize=[14,6])\n",
    "plt.hist( tmp, bins=xi, label=lbl_str)\n",
    "plt.title('{} ({:2.2f}%) in [-24,24]. '.format(\n",
    "        N_firstday, N_firstday*100.0 / np.sum(~idxRem)))\n",
    "plt.legend(loc='upper left')\n",
    "    \n",
    "plt.show()"
   ]
  },
  {
   "cell_type": "markdown",
   "metadata": {},
   "source": [
    "We can see that most patients are suspected of infection either before, or at the time of their ICU admission. This motivates the decision to evaluate the performance of the scores at ICU admission."
   ]
  },
  {
   "cell_type": "markdown",
   "metadata": {},
   "source": [
    "# Load final dataset from Postgres"
   ]
  },
  {
   "cell_type": "code",
   "execution_count": null,
   "metadata": {},
   "outputs": [],
   "source": [
    "# load in final dataset - note we apply the exclusion criteria with excluded=0\n",
    "query = query_schema + \"select * from sepsis3 where excluded = 0\"\n",
    "\n",
    "df = pd.read_sql_query(query,con)\n",
    "df"
   ]
  },
  {
   "cell_type": "code",
   "execution_count": null,
   "metadata": {},
   "outputs": [],
   "source": [
    "df.mort_icu"
   ]
  },
  {
   "cell_type": "markdown",
   "metadata": {},
   "source": [
    "We have: ICU intime/outtime, suspected infection time, whether the microbiology culture was positive, some demographics, comorbidities, outcomes, and the severity scores. \n",
    "\n",
    "The severity scores are extracted at a [0, 24] hour window centered around ICU admission - except labs have an extended [-6, 24] hour window (i.e. 'sofa' is extracted in this way)."
   ]
  },
  {
   "cell_type": "markdown",
   "metadata": {},
   "source": [
    "## Add in useful variables"
   ]
  },
  {
   "cell_type": "code",
   "execution_count": null,
   "metadata": {},
   "outputs": [],
   "source": [
    "# add the composite outcome\n",
    "df['composite_outcome'] = ( (df['hospital_expire_flag']==1) | (df['icu_los']>=3) ).astype(int)\n",
    "\n",
    "labels = OrderedDict([['suspicion_poe', 'BC + ABX (Prescribed)']])\n",
    "\n",
    "# add some other useful variables\n",
    "df['blood culture'] = (~df['blood_culture_time'].isnull())\n",
    "df['suspicion_poe'] = (~df['suspected_infection_time_poe_days'].isnull())\n",
    "\n",
    "df['abx_poe'] = (~df['antibiotic_time_poe'].isnull())\n",
    "\n",
    "df['sepsis-3'] = ((df['suspicion_poe']==1) & (df['sofa']>=2)).astype(int)\n",
    "df['sofa>=2'] = (df['sofa']>=2).astype(int)"
   ]
  },
  {
   "cell_type": "markdown",
   "metadata": {},
   "source": [
    "# Save the data to file\n",
    "\n",
    "The dataframes will be loaded directly from a file, rather than the database.\n"
   ]
  },
  {
   "cell_type": "code",
   "execution_count": null,
   "metadata": {},
   "outputs": [],
   "source": [
    "df.columns"
   ]
  },
  {
   "cell_type": "code",
   "execution_count": null,
   "metadata": {},
   "outputs": [],
   "source": [
    "df.head()"
   ]
  },
  {
   "cell_type": "markdown",
   "metadata": {},
   "source": [
    "We will keep the patients that satisfy the sepsis3 criteria and use the icustay_ids to extract the relevant data from the rest of the tables.\n"
   ]
  },
  {
   "cell_type": "code",
   "execution_count": null,
   "metadata": {},
   "outputs": [],
   "source": [
    "sepsis3 = df[df['sepsis-3'] == 1]\n",
    "sepsis3 = sepsis3.sort_values(['hadm_id', 'intime'])\n",
    "\n",
    "#sepsis3.to_csv(os.path.join(data_path, 'sepsis-df-3.csv'),sep=',',index=False)\n",
    "\n",
    "sepsis3"
   ]
  },
  {
   "cell_type": "code",
   "execution_count": null,
   "metadata": {},
   "outputs": [],
   "source": [
    "sepsis3[sepsis3['sepsis_angus'] == 1].sort_values(['hadm_id'])\n"
   ]
  },
  {
   "cell_type": "code",
   "execution_count": null,
   "metadata": {},
   "outputs": [],
   "source": [
    "tex.columns"
   ]
  },
  {
   "cell_type": "code",
   "execution_count": null,
   "metadata": {},
   "outputs": [],
   "source": [
    "\n",
    "tex  = tex.sort_values(['hadm_id'])\n",
    "tex = tex[tex.hadm_id.isin(sepsis3.hadm_id)]\n",
    "\n",
    "tex.to_csv(os.path.join(data_path, 'text-df-3.csv'),sep=',',index=False)\n"
   ]
  },
  {
   "cell_type": "code",
   "execution_count": null,
   "metadata": {},
   "outputs": [],
   "source": [
    "## extract urine output\n",
    "query = query_schema + \"select * from urine_output_first_day_ts\"\n",
    "uo = pd.read_sql_query(query,con)\n",
    "uo  = uo.sort_values(['icustay_id', 'charttime'])\n",
    "uo = uo[uo.icustay_id.isin(sepsis3.icustay_id)]\n",
    "uo.to_csv(os.path.join(data_path, 'urine-output-df-3.csv'),sep=',',index=False)"
   ]
  },
  {
   "cell_type": "code",
   "execution_count": null,
   "metadata": {},
   "outputs": [],
   "source": [
    "## extract vitals\n",
    "query = query_schema + \"select * from vitals_first_day_ts\"\n",
    "vt = pd.read_sql_query(query,con)\n",
    "vt  = vt.sort_values(['icustay_id', 'charttime'])\n",
    "vt = vt[vt.icustay_id.isin(sepsis3.icustay_id)]\n",
    "vt.to_csv(os.path.join(data_path, 'vitals-df-3.csv'),sep=',',index=False)"
   ]
  },
  {
   "cell_type": "code",
   "execution_count": null,
   "metadata": {},
   "outputs": [],
   "source": [
    "## extract labs\n",
    "query = query_schema + \"select * from labs_first_day_ts\"\n",
    "lb = pd.read_sql_query(query,con)\n",
    "lb  = lb.sort_values(['icustay_id', 'charttime'])\n",
    "lb = lb[lb.icustay_id.isin(sepsis3.icustay_id)]\n",
    "lb.to_csv(os.path.join(data_path, 'labs-df-3.csv'),sep=',',index=False)"
   ]
  },
  {
   "cell_type": "code",
   "execution_count": null,
   "metadata": {},
   "outputs": [],
   "source": [
    "## extract blood gas\n",
    "query = query_schema + \"select * from blood_gas_first_day\"\n",
    "bg = pd.read_sql_query(query,con)\n",
    "bg  = bg.sort_values(['icustay_id', 'charttime'])\n",
    "bg = bg[bg.icustay_id.isin(sepsis3.icustay_id)]\n",
    "bg.to_csv(os.path.join(data_path, 'blood-gas-df-3.csv'),sep=',',index=False)"
   ]
  },
  {
   "cell_type": "code",
   "execution_count": null,
   "metadata": {},
   "outputs": [],
   "source": [
    "## extract blood gas\n",
    "query = query_schema + \"select * from blood_gas_first_day_arterial\"\n",
    "bga = pd.read_sql_query(query,con)\n",
    "bga  = bga.sort_values(['icustay_id', 'charttime'])\n",
    "bga = bga[bga.icustay_id.isin(sepsis3.icustay_id)]\n",
    "bga.to_csv(os.path.join(data_path, 'blood-gas-arterial-df-3.csv'),sep=',',index=False)"
   ]
  },
  {
   "cell_type": "code",
   "execution_count": null,
   "metadata": {},
   "outputs": [],
   "source": [
    "## extract ventilation\n",
    "query = query_schema + \"select * from ventilation_first_day\"\n",
    "vent = pd.read_sql_query(query,con)\n",
    "vent  = vent.sort_values(['icustay_id'])\n",
    "vent = vent[vent.icustay_id.isin(sepsis3.icustay_id)]\n",
    "vent.to_csv(os.path.join(data_path, 'ventilation-df-3.csv'),sep=',',index=False)"
   ]
  },
  {
   "cell_type": "code",
   "execution_count": null,
   "metadata": {},
   "outputs": [],
   "source": [
    "## extract gcs\n",
    "query = query_schema + \"select * from gcs_first_day\"\n",
    "gcs = pd.read_sql_query(query,con)\n",
    "gcs  = gcs.sort_values(['icustay_id'])\n",
    "gcs = gcs[gcs.icustay_id.isin(sepsis3.icustay_id)]\n",
    "gcs.to_csv(os.path.join(data_path, 'gcs-df-3.csv'),sep=',',index=False)"
   ]
  },
  {
   "cell_type": "code",
   "execution_count": null,
   "metadata": {},
   "outputs": [],
   "source": [
    "## extract comorbidities\n",
    "query = query_schema + \"select * from elixhauser_ahrq_v37\"\n",
    "cmb = pd.read_sql_query(query,con)\n",
    "cmb  = cmb.sort_values(['hadm_id'])\n",
    "cmb = cmb[cmb.hadm_id.isin(sepsis3.hadm_id)]\n",
    "cmb.to_csv(os.path.join(data_path, 'comorbidities-df-3.csv'),sep=',',index=False)"
   ]
  },
  {
   "cell_type": "code",
   "execution_count": null,
   "metadata": {},
   "outputs": [],
   "source": [
    "cmb"
   ]
  },
  {
   "cell_type": "code",
   "execution_count": null,
   "metadata": {},
   "outputs": [],
   "source": [
    "## extract sofa\n",
    "query = query_schema + \"select * from sofa\"\n",
    "sofa = pd.read_sql_query(query,con)\n",
    "sofa  = sofa.sort_values(['icustay_id'])\n",
    "sofa = sofa[sofa.icustay_id.isin(sepsis3.icustay_id)]\n",
    "sofa.to_csv(os.path.join(data_path, 'sofa-df-3.csv'),sep=',',index=False)"
   ]
  },
  {
   "cell_type": "code",
   "execution_count": null,
   "metadata": {},
   "outputs": [],
   "source": [
    "## extract qsofa\n",
    "query = query_schema + \"select * from qsofa\"\n",
    "qsofa = pd.read_sql_query(query,con)\n",
    "qsofa  = qsofa.sort_values(['icustay_id'])\n",
    "qsofa = qsofa[qsofa.icustay_id.isin(sepsis3.icustay_id)]\n",
    "qsofa.to_csv(os.path.join(data_path, 'qsofa-df-3.csv'),sep=',',index=False)"
   ]
  },
  {
   "cell_type": "code",
   "execution_count": null,
   "metadata": {},
   "outputs": [],
   "source": [
    "### join vasopressors, extract only sepsis3 patients and keep only the 24first hours of their ICU admission\n",
    "## extract comorbidities\n",
    "query = query_schema + \"select * from dobutamine_dose\"\n",
    "dobutamine_dose = pd.read_sql_query(query,con)\n",
    "\n",
    "query = query_schema + \"select * from dopamine_dose\"\n",
    "dopamine_dose = pd.read_sql_query(query,con)\n",
    "\n",
    "query = query_schema + \"select * from vasopressin_dose\"\n",
    "vasopressin_dose = pd.read_sql_query(query,con)\n",
    "\n",
    "query = query_schema + \"select * from phenylephrine_dose\"\n",
    "phenylephrine_dose = pd.read_sql_query(query,con)\n",
    "\n",
    "query = query_schema + \"select * from epinephrine_dose\"\n",
    "epinephrine_dose = pd.read_sql_query(query,con)\n",
    "\n",
    "query = query_schema + \"select * from norepinephrine_dose\"\n",
    "norepinephrine_dose = pd.read_sql_query(query,con)\n",
    "\n",
    "\n",
    "dobutamine_dose  = dobutamine_dose.sort_values(['icustay_id'])\n",
    "dobutamine_dose = dobutamine_dose[dobutamine_dose.icustay_id.isin(sepsis3.icustay_id)]\n",
    "dobutamine_dose = dobutamine_dose.reset_index(drop=True)\n",
    "dobutamine_dose.rename(columns={'vaso_amount':'dobutamine_dose'}, inplace=True)\n",
    "dobutamine_dose = dobutamine_dose.drop('vaso_rate', axis=1)\n",
    "\n",
    "\n",
    "dopamine_dose  = dopamine_dose.sort_values(['icustay_id'])\n",
    "dopamine_dose = dopamine_dose[dopamine_dose.icustay_id.isin(sepsis3.icustay_id)]\n",
    "dopamine_dose = dopamine_dose.reset_index(drop=True)\n",
    "dopamine_dose.rename(columns={'vaso_amount':'dopamine_dose'}, inplace=True)\n",
    "dopamine_dose = dopamine_dose.drop('vaso_rate', axis=1)\n",
    "\n",
    "vasopressin_dose  = vasopressin_dose.sort_values(['icustay_id'])\n",
    "vasopressin_dose = vasopressin_dose[vasopressin_dose.icustay_id.isin(sepsis3.icustay_id)]\n",
    "vasopressin_dose = vasopressin_dose.reset_index(drop=True)\n",
    "vasopressin_dose.rename(columns={'vaso_amount':'vasopressin_dose'}, inplace=True)\n",
    "vasopressin_dose = vasopressin_dose.drop('vaso_rate', axis=1)\n",
    "\n",
    "phenylephrine_dose  = phenylephrine_dose.sort_values(['icustay_id'])\n",
    "phenylephrine_dose = phenylephrine_dose[phenylephrine_dose.icustay_id.isin(sepsis3.icustay_id)]\n",
    "phenylephrine_dose = phenylephrine_dose.reset_index(drop=True)\n",
    "phenylephrine_dose.rename(columns={'vaso_amount':'phenylephrine_dose'}, inplace=True)\n",
    "phenylephrine_dose = phenylephrine_dose.drop('vaso_rate', axis=1)\n",
    "\n",
    "epinephrine_dose  = epinephrine_dose.sort_values(['icustay_id'])\n",
    "epinephrine_dose = epinephrine_dose[epinephrine_dose.icustay_id.isin(sepsis3.icustay_id)]\n",
    "epinephrine_dose = epinephrine_dose.reset_index(drop=True)\n",
    "epinephrine_dose.rename(columns={'vaso_amount':'epinephrine_dose'}, inplace=True)\n",
    "epinephrine_dose = epinephrine_dose.drop('vaso_rate', axis=1)\n",
    "\n",
    "norepinephrine_dose  = norepinephrine_dose.sort_values(['icustay_id'])\n",
    "norepinephrine_dose = norepinephrine_dose[norepinephrine_dose.icustay_id.isin(sepsis3.icustay_id)]\n",
    "norepinephrine_dose = norepinephrine_dose.reset_index(drop=True)\n",
    "norepinephrine_dose.rename(columns={'vaso_amount':'norepinephrine_dose'}, inplace=True)\n",
    "norepinephrine_dose = norepinephrine_dose.drop('vaso_rate', axis=1)\n",
    "\n",
    "\n",
    "\n"
   ]
  },
  {
   "cell_type": "code",
   "execution_count": null,
   "metadata": {},
   "outputs": [],
   "source": [
    "vasopressors = pd.concat([dobutamine_dose, dopamine_dose, vasopressin_dose, phenylephrine_dose, epinephrine_dose, norepinephrine_dose], ignore_index=True)\n",
    "vasopressors"
   ]
  },
  {
   "cell_type": "code",
   "execution_count": null,
   "metadata": {},
   "outputs": [],
   "source": [
    "vasopressors.icustay_id = vasopressors.icustay_id.astype(int)\n",
    "vasopressors"
   ]
  },
  {
   "cell_type": "code",
   "execution_count": null,
   "metadata": {},
   "outputs": [],
   "source": [
    "temp = sepsis3[['icustay_id', 'intime']]\n",
    "vasopressors_ts = pd.merge(temp, vasopressors, on='icustay_id', how='left')\n",
    "vasopressors_ts"
   ]
  },
  {
   "cell_type": "code",
   "execution_count": null,
   "metadata": {},
   "outputs": [],
   "source": [
    "## keep 24 hours for vasopressors_ts\n",
    "# Convert the columns to datetime objects\n",
    "vasopressors_ts['intime'] = pd.to_datetime(df['intime'])\n",
    "vasopressors_ts['starttime'] = pd.to_datetime(df['starttime'])\n",
    "\n",
    "# Calculate the time difference in hours\n",
    "vasopressors_ts['time_difference'] = (vasopressors_ts['starttime'] - vasopressors_ts['intime']).dt.total_seconds() / 3600\n",
    "\n",
    "# Filter rows where the time difference is at most 24 hours\n",
    "vasopressors_ts = vasopressors_ts[vasopressors_ts['time_difference'] <= 24]\n",
    "\n",
    "# Drop the 'time_difference' column if not needed\n",
    "vasopressors_ts = vasopressors_ts.drop(columns=['time_difference'])\n",
    "\n",
    "vasopressors_ts.to_csv(os.path.join(data_path, 'vasopressors-ts-df-3.csv'),sep=',',index=False)\n"
   ]
  },
  {
   "cell_type": "code",
   "execution_count": null,
   "metadata": {},
   "outputs": [],
   "source": [
    "query = query_schema + \"select * from vasopressor_durations\"\n",
    "vasopressor_durations = pd.read_sql_query(query,con)\n",
    "vasopressor_durations  = vasopressor_durations.sort_values(['icustay_id'])\n",
    "vasopressor_durations = vasopressor_durations[vasopressor_durations.icustay_id.isin(sepsis3.icustay_id)]\n",
    "vasopressor_durations.to_csv(os.path.join(data_path, 'vasopressor-durations-df-3.csv'),sep=',',index=False)"
   ]
  },
  {
   "cell_type": "code",
   "execution_count": null,
   "metadata": {},
   "outputs": [],
   "source": [
    "## saving all patients that satisfy sepsis according to various criteria\n",
    "df.to_csv(os.path.join(data_path, 'sepsis-df-all-criteria.csv'),sep=',',index=False)"
   ]
  },
  {
   "cell_type": "markdown",
   "metadata": {},
   "source": [
    "# Dataset with no exclusions\n",
    "\n",
    "It may be useful for others to analyze the dataset without exclusions. Here we generate an identical copy of the data, except for all `icustay_id` in MIMIC-III."
   ]
  },
  {
   "cell_type": "code",
   "execution_count": null,
   "metadata": {},
   "outputs": [],
   "source": [
    "# load in final dataset - note we add in the individual exclusion criteria\n",
    "query = query_schema + \"\"\"\n",
    "select ie.subject_id\n",
    ", s.*\n",
    ", co.exclusion_secondarystay\n",
    ", co.exclusion_nonadult\n",
    ", co.exclusion_csurg\n",
    ", co.exclusion_carevue\n",
    ", co.exclusion_early_suspicion\n",
    ", co.exclusion_late_suspicion\n",
    ", co.exclusion_bad_data\n",
    "from sepsis3 s\n",
    "-- add in subject_id\n",
    "inner join icustays ie\n",
    "  on s.icustay_id = ie.icustay_id\n",
    "inner join sepsis3_cohort co\n",
    "  on s.icustay_id = co.icustay_id\n",
    "order by s.icustay_id\n",
    "\"\"\"\n",
    "\n",
    "df = pd.read_sql_query(query,con)\n",
    "\n",
    "# add the composite outcome\n",
    "df['composite_outcome'] = ( (df['hospital_expire_flag']==1) | (df['icu_los']>=3) ).astype(int)\n",
    "\n",
    "labels = OrderedDict([['suspicion_poe', 'BC + ABX (Prescribed)']])\n",
    "\n",
    "# add some other useful variables\n",
    "df['blood culture'] = (~df['blood_culture_time'].isnull())\n",
    "df['suspicion_poe'] = (~df['suspected_infection_time_poe_days'].isnull())\n",
    "\n",
    "df['abx_poe'] = (~df['antibiotic_time_poe'].isnull())\n",
    "\n",
    "df['sepsis-3'] = ((df['suspicion_poe']==1) & (df['sofa']>=2)).astype(int)\n",
    "df['sofa>=2'] = (df['sofa']>=2).astype(int)\n",
    "\n",
    "df.to_csv(os.path.join(data_path, 'sepsis-df-no-exclusions.csv'),sep=',',index=False)"
   ]
  },
  {
   "cell_type": "code",
   "execution_count": null,
   "metadata": {},
   "outputs": [],
   "source": [
    "#con.close()"
   ]
  },
  {
   "cell_type": "code",
   "execution_count": null,
   "metadata": {},
   "outputs": [],
   "source": []
  }
 ],
 "metadata": {
  "kernelspec": {
   "display_name": ".venv",
   "language": "python",
   "name": "python3"
  },
  "language_info": {
   "codemirror_mode": {
    "name": "ipython",
    "version": 3
   },
   "file_extension": ".py",
   "mimetype": "text/x-python",
   "name": "python",
   "nbconvert_exporter": "python",
   "pygments_lexer": "ipython3",
   "version": "3.10.0"
  }
 },
 "nbformat": 4,
 "nbformat_minor": 1
}
