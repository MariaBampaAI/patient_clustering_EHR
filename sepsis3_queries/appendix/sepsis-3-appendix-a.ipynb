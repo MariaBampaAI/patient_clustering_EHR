{
 "cells": [
  {
   "cell_type": "markdown",
   "metadata": {},
   "source": [
    "# Appendix A\n",
    "\n",
    "The following contains code for Appendix A of the paper, specifically, evaluating the optimism of the performance measures by holding out a validation set and calculating measures of performance on this held out set."
   ]
  },
  {
   "cell_type": "code",
   "execution_count": 1,
   "metadata": {
    "collapsed": false
   },
   "outputs": [],
   "source": [
    "from __future__ import print_function\n",
    "\n",
    "# Import libraries\n",
    "import numpy as np\n",
    "import pandas as pd\n",
    "import matplotlib.pyplot as plt\n",
    "import psycopg2\n",
    "import os, sys\n",
    "import subprocess\n",
    "\n",
    "# hack to append the parent path to the system path\n",
    "# this allows us to import sepsis_utils\n",
    "sys.path.append(os.path.dirname(os.path.abspath('.')))\n",
    "\n",
    "from sepsis_utils import sepsis_utils as su\n",
    "from sepsis_utils import roc_utils as ru\n",
    "\n",
    "# default colours for prettier plots\n",
    "col = [[0.9047, 0.1918, 0.1988],\n",
    "    [0.2941, 0.5447, 0.7494],\n",
    "    [0.3718, 0.7176, 0.3612],\n",
    "    [1.0000, 0.5482, 0.1000],\n",
    "    [0.4550, 0.4946, 0.4722],\n",
    "    [0.6859, 0.4035, 0.2412],\n",
    "    [0.9718, 0.5553, 0.7741],\n",
    "    [0.5313, 0.3359, 0.6523]];\n",
    "marker = ['v','o','d','^','s','o','+']\n",
    "ls = ['-','-','-','-','-','s','--','--']\n",
    "%matplotlib inline"
   ]
  },
  {
   "cell_type": "markdown",
   "metadata": {},
   "source": [
    "First, load the data and split the data into a development and a validation set."
   ]
  },
  {
   "cell_type": "code",
   "execution_count": 2,
   "metadata": {
    "collapsed": false
   },
   "outputs": [],
   "source": [
    "# load data\n",
    "df = pd.read_csv('../sepsis3-df.csv',sep=',')\n",
    "\n",
    "# split into development/validation sets\n",
    "df_dev = df.sample(frac=0.5, replace=False, weights=None, random_state=12875, axis=0)\n",
    "df_val = df.loc[[x for x in df.index if x not in df_dev.index],:]\n",
    "\n",
    "# write to file the design matrix for the MFP model here - these files are used by the R code\n",
    "X_header = ['age','elixhauser_hospital','hospital_expire_flag','angus',\n",
    "            'is_male','race_black','race_other',\n",
    "            'qsofa','sofa','sepsis3','sirs','lods','mlods']\n",
    "\n",
    "np.savetxt('sepsis3-design-matrix-dev.csv', df_dev[X_header].values, fmt='%4.4f',\n",
    "           delimiter=',', header=','.join(X_header), comments='')\n",
    "np.savetxt('sepsis3-design-matrix-val.csv', df_val[X_header].values, fmt='%4.4f',\n",
    "           delimiter=',', header=','.join(X_header), comments='')"
   ]
  },
  {
   "cell_type": "markdown",
   "metadata": {},
   "source": [
    "Next, we train the baseline model (a multifractional polynomial model using only age/gender/comorbidity/race) on the development set and evaluate it on the validation set. "
   ]
  },
  {
   "cell_type": "code",
   "execution_count": 3,
   "metadata": {
    "collapsed": false
   },
   "outputs": [
    {
     "name": "stdout",
     "output_type": "stream",
     "text": [
      "Performance of an MFP model without severity of illness predicting hospital_expire_flag:\n",
      "DEV (n = 3391): 0.703 [0.678, 0.727]\n",
      "VAL (n = 3390): 0.691 [0.666, 0.716]\n",
      "ALL (n = 6781): 0.697 [0.679, 0.714] (trained/evaluated on all the data)\n"
     ]
    }
   ],
   "source": [
    "target_header = 'hospital_expire_flag'\n",
    "\n",
    "# baseline model\n",
    "fn_in = \"../sepsis3-design-matrix\" # the function adds \"-dev.csv\" and \"-val.csv\"\n",
    "fn_out = \"../sepsis3-preds\"\n",
    "\n",
    "# train a baseline model with only four covariates\n",
    "formula = target_header + \" ~ fp(age) + fp(elixhauser_hospital) + is_male + race_black + race_other\"\n",
    "rcmd = [\"Rscript ../r-make-sepsis3-models-dev-val.R\", fn_in, fn_out, '\"' + formula + '\"']\n",
    "err = subprocess.call(' '.join(rcmd), shell=True)\n",
    "if err!=0:\n",
    "    print('RScript returned error status {}.'.format(err))\n",
    "else:\n",
    "    # load in the predictions output by the R script\n",
    "    pred_dev = pd.read_csv(fn_out + '-dev.csv', sep=',', header=0)\n",
    "    pred_dev = pred_dev.values[:,0]\n",
    "    \n",
    "    pred_val = pd.read_csv(fn_out + '-val.csv', sep=',', header=0)\n",
    "    pred_val = pred_val.values[:,0]\n",
    "    \n",
    "    # read in the targets\n",
    "    tar_dev = pd.read_csv(fn_out + '-dev-tar.csv', sep=',', header=0)\n",
    "    tar_dev = tar_dev.values[:,0]\n",
    "    \n",
    "    tar_val = pd.read_csv(fn_out + '-val-tar.csv', sep=',', header=0)\n",
    "    tar_val = tar_val.values[:,0]\n",
    "\n",
    "# print out the baseline AUROC of a model without severity of illness\n",
    "# in Seymour2016, this was 0.58 (validation)\n",
    "auc_mfp_dev, ci_mfp_dev = ru.calc_auc(pred_dev, tar_dev, with_ci=True, alpha=0.05)\n",
    "auc_mfp_val, ci_mfp_val = ru.calc_auc(pred_val, tar_val, with_ci=True, alpha=0.05)\n",
    "\n",
    "\n",
    "print('Performance of an MFP model without severity of illness predicting {}:'.format(target_header))\n",
    "print('DEV (n = {:4g}): {:0.3f} [{:0.3f}, {:0.3f}]'.format(\n",
    "        df_dev.shape[0], auc_mfp_dev, ci_mfp_dev[0], ci_mfp_dev[1]))\n",
    "print('VAL (n = {:4g}): {:0.3f} [{:0.3f}, {:0.3f}]'.format(\n",
    "        df_val.shape[0], auc_mfp_val, ci_mfp_val[0], ci_mfp_val[1]))\n",
    "\n",
    "# retrain the model on the full data and to compare\n",
    "fn_in = \"../sepsis3-design-matrix.csv\"\n",
    "fn_out = \"../sepsis3-preds.csv\"\n",
    "formula = target_header + \" ~ fp(age) + fp(elixhauser_hospital) + is_male + race_black + race_other\"\n",
    "rcmd = [\"Rscript ../r-make-sepsis3-models.R\", fn_in, fn_out, '\"' + formula + '\"']\n",
    "err = subprocess.call(' '.join(rcmd), shell=True)\n",
    "if err!=0:\n",
    "    print('RScript returned error status {}.'.format(err))\n",
    "else:\n",
    "    preds_mfp_b = pd.read_csv(fn_out, sep=',', header=0)\n",
    "    preds_mfp_b = preds_mfp_b.values[:,0]\n",
    "    auc_mfp_b, ci_mfp_b = ru.calc_auc(preds_mfp_b, df[target_header].values,\n",
    "                                      with_ci=True,\n",
    "                                      alpha=0.05)\n",
    "    print('ALL (n = {:4g}): {:0.3f} [{:0.3f}, {:0.3f}] (trained/evaluated on all the data)'.format(\n",
    "        df.shape[0], auc_mfp_b, ci_mfp_b[0], ci_mfp_b[1]))"
   ]
  }
 ],
 "metadata": {
  "kernelspec": {
   "display_name": "Python 2",
   "language": "python",
   "name": "python2"
  },
  "language_info": {
   "codemirror_mode": {
    "name": "ipython",
    "version": 2
   },
   "file_extension": ".py",
   "mimetype": "text/x-python",
   "name": "python",
   "nbconvert_exporter": "python",
   "pygments_lexer": "ipython2",
   "version": "2.7.12"
  }
 },
 "nbformat": 4,
 "nbformat_minor": 0
}
