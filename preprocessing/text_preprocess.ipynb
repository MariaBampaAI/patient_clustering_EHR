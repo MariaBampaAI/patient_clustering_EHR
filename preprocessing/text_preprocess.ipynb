{
 "cells": [
  {
   "cell_type": "code",
   "execution_count": null,
   "metadata": {},
   "outputs": [],
   "source": [
    "import os \n",
    "import pandas as pd \n",
    "\n",
    "import warnings\n",
    "warnings.filterwarnings(\"ignore\")"
   ]
  },
  {
   "cell_type": "code",
   "execution_count": null,
   "metadata": {},
   "outputs": [],
   "source": [
    "folder = '../sepsis3_queries/data'\n",
    "sepsis3 = pd.read_csv(f'{folder}/sepsis-df-3.csv')\n",
    "text = pd.read_csv(f'{folder}/text-df-3.csv')"
   ]
  },
  {
   "cell_type": "code",
   "execution_count": null,
   "metadata": {},
   "outputs": [],
   "source": [
    "sepsis3.head()"
   ]
  },
  {
   "cell_type": "code",
   "execution_count": null,
   "metadata": {},
   "outputs": [],
   "source": [
    "text.head()"
   ]
  },
  {
   "cell_type": "markdown",
   "metadata": {},
   "source": [
    "CHARTDATE records the date at which the note was charted. CHARTDATE will always have a time value of 00:00:00.\n",
    "\n",
    "CHARTTIME records the date and time at which the note was charted. If both CHARTDATE and CHARTTIME exist, then the date portions will be identical. All records have a CHARTDATE. A subset are missing CHARTTIME. More specifically, notes with a CATEGORY value of ‘Discharge Summary’, ‘ECG’, and ‘Echo’ never have a CHARTTIME, only CHARTDATE. Other categories almost always have both CHARTTIME and CHARTDATE, but there is a small amount of missing data for CHARTTIME (usually less than 0.5% of the total number of notes for that category).\n",
    "\n",
    "STORETIME records the date and time at which a note was saved into the system. Notes with a CATEGORY value of ‘Discharge Summary’, ‘ECG’, ‘Radiology’, and ‘Echo’ never have a STORETIME. All other notes have a STORETIME.\n",
    "\n",
    "A ‘1’ in the ISERROR column indicates that a physician has identified this note as an error.\n",
    "\n"
   ]
  },
  {
   "cell_type": "markdown",
   "metadata": {},
   "source": [
    "## Exclude errors"
   ]
  },
  {
   "cell_type": "code",
   "execution_count": null,
   "metadata": {},
   "outputs": [],
   "source": [
    "text.iserror.value_counts()"
   ]
  },
  {
   "cell_type": "code",
   "execution_count": null,
   "metadata": {},
   "outputs": [],
   "source": [
    "# exclude errors\n",
    "text = text[text.iserror != 1]"
   ]
  },
  {
   "cell_type": "markdown",
   "metadata": {},
   "source": [
    "## 24 hours in the ICU"
   ]
  },
  {
   "cell_type": "code",
   "execution_count": null,
   "metadata": {},
   "outputs": [],
   "source": [
    "text.head()"
   ]
  },
  {
   "cell_type": "code",
   "execution_count": null,
   "metadata": {},
   "outputs": [],
   "source": [
    "### 1 hours intervals based on if the have entries in the charttime \n",
    "\n",
    "KEYS = ['hadm_id']\n",
    "\n",
    "text[['charttime', 'chartdate']] = text[['charttime','chartdate']].apply(pd.to_datetime)\n",
    "\n",
    "\n",
    "sepsis3[[\"intime\", \"outtime\"]] = sepsis3[[\"intime\", \"outtime\"]].apply(pd.to_datetime)\n",
    "\n",
    "print(\"Hourly buckets\")\n",
    "\n",
    "#### hourly buckets ####################################\n",
    "to_hours = lambda x: max(0, x.days*24 + x.seconds // 3600)\n",
    "\n",
    "# join and add in labs_vital the icu intime and outime, to separate in hourly buckets\n",
    "sepsis3 = sepsis3.set_index(KEYS)\n",
    "text = text.set_index(KEYS).join(sepsis3[['intime', 'outtime', 'icustay_id']])\n",
    "# to hourly buckets\n",
    "text['hours_in'] = (text['charttime'] - text['intime']).apply(to_hours)"
   ]
  },
  {
   "cell_type": "code",
   "execution_count": null,
   "metadata": {},
   "outputs": [],
   "source": [
    "text.head()"
   ]
  },
  {
   "cell_type": "code",
   "execution_count": null,
   "metadata": {},
   "outputs": [],
   "source": [
    "text.groupby(['subject_id'])['hours_in'].max()"
   ]
  },
  {
   "cell_type": "code",
   "execution_count": null,
   "metadata": {},
   "outputs": [],
   "source": [
    "text[text.subject_id == 671]"
   ]
  },
  {
   "cell_type": "markdown",
   "metadata": {},
   "source": [
    "We can see now that the hours_in correspond to the correct hours if the patient had an entry in the charttime. \n",
    "If the charttime was NaT this is registered as 0 hours in no matter how many days or hours the patient stayed in the ICU.\n",
    "So i will slice again based the chartdate and create an additional feature based on days called days_in. \n",
    "Hopefully, this will be good for filtering them. "
   ]
  },
  {
   "cell_type": "code",
   "execution_count": null,
   "metadata": {},
   "outputs": [],
   "source": [
    "import pandas as pd\n",
    "\n",
    "\n",
    "# # Convert string columns to datetime\n",
    "# df['chartdate'] = pd.to_datetime(df['chartdate'], format=\"%Y-%m-%d\")\n",
    "# df['intime'] = pd.to_datetime(df['intime'], format=\"%Y-%m-%d\")\n",
    "\n",
    "to_days = lambda x, y: max(0, (x.date() - y.date()).days)\n",
    "\n",
    "# Apply the function to create a new column 'days_difference'\n",
    "text['days_in'] = text.apply(lambda row: to_days(row['chartdate'], row['intime']), axis=1)\n",
    "\n"
   ]
  },
  {
   "cell_type": "code",
   "execution_count": null,
   "metadata": {},
   "outputs": [],
   "source": [
    "text[text.subject_id == 671]"
   ]
  },
  {
   "cell_type": "markdown",
   "metadata": {},
   "source": [
    "## Save"
   ]
  },
  {
   "cell_type": "code",
   "execution_count": null,
   "metadata": {},
   "outputs": [],
   "source": [
    "sepsis3.columns"
   ]
  },
  {
   "cell_type": "code",
   "execution_count": null,
   "metadata": {},
   "outputs": [],
   "source": [
    "text = text.join(sepsis3[['hospital_expire_flag', 'thirtyday_expire_flag', 'icu_los', 'hosp_los', 'mort_icu',\\\n",
    "                                          'mort_hosp', 'sepsis_angus']])\n",
    "\n",
    "\n"
   ]
  },
  {
   "cell_type": "code",
   "execution_count": null,
   "metadata": {},
   "outputs": [],
   "source": [
    "text.head()"
   ]
  },
  {
   "cell_type": "code",
   "execution_count": null,
   "metadata": {},
   "outputs": [],
   "source": [
    "text = text.drop('row_id', axis=1)\n",
    "text.sepsis_angus.value_counts()"
   ]
  },
  {
   "cell_type": "code",
   "execution_count": null,
   "metadata": {},
   "outputs": [],
   "source": [
    "KEYS_ALL = ['subject_id', 'icustay_id', 'hadm_id', 'days_in']\n",
    "text = text.reset_index()\n",
    "text['hadm_id'] = text['hadm_id'].astype(int)\n",
    "text.set_index(KEYS_ALL)"
   ]
  },
  {
   "cell_type": "code",
   "execution_count": null,
   "metadata": {},
   "outputs": [],
   "source": [
    "text[text.icustay_id == 240913]"
   ]
  },
  {
   "cell_type": "code",
   "execution_count": null,
   "metadata": {},
   "outputs": [],
   "source": [
    "folder = 'data_stage_1'\n",
    "text.to_csv(os.path.join(folder, 'text.csv'),sep=',',index=False)\n"
   ]
  },
  {
   "cell_type": "code",
   "execution_count": null,
   "metadata": {},
   "outputs": [],
   "source": []
  }
 ],
 "metadata": {
  "kernelspec": {
   "display_name": ".venv",
   "language": "python",
   "name": "python3"
  },
  "language_info": {
   "codemirror_mode": {
    "name": "ipython",
    "version": 3
   },
   "file_extension": ".py",
   "mimetype": "text/x-python",
   "name": "python",
   "nbconvert_exporter": "python",
   "pygments_lexer": "ipython3",
   "version": "3.10.0"
  }
 },
 "nbformat": 4,
 "nbformat_minor": 2
}
