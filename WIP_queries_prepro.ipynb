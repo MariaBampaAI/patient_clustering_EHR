{
 "cells": [
  {
   "cell_type": "code",
   "execution_count": null,
   "metadata": {},
   "outputs": [],
   "source": [
    "import pandas as pd \n",
    "import psycopg2\n",
    "import getpass\n",
    "from helpers import *"
   ]
  },
  {
   "cell_type": "markdown",
   "metadata": {},
   "source": [
    "## Define the mortality cohort"
   ]
  },
  {
   "cell_type": "code",
   "execution_count": null,
   "metadata": {},
   "outputs": [],
   "source": [
    "demographics = pd.read_hdf('data.h5', key='demographics') \n",
    "labs_vitals = pd.read_hdf('data.h5', key='labs_vitals') \n",
    "vaso_mv = pd.read_hdf('data.h5', key='vaso_mv') \n",
    "vaso_cv = pd.read_hdf('data.h5', key='vaso_cv') \n",
    "mech_vent = pd.read_hdf('data.h5', key='mech_vent') \n",
    "colloid_bolus = pd.read_hdf('data.h5', key='colloid_bolus_f') \n",
    "crystalloid_bolus = pd.read_hdf('data.h5', key='crystalloid_bolus')\n",
    "antibiotics = pd.read_hdf('data.h5', key='antibiotics')\n",
    "diagnoses = pd.read_hdf('data.h5', key='diagnoses') \n"
   ]
  },
  {
   "cell_type": "code",
   "execution_count": null,
   "metadata": {},
   "outputs": [],
   "source": [
    "labs_vitals"
   ]
  },
  {
   "cell_type": "code",
   "execution_count": null,
   "metadata": {},
   "outputs": [],
   "source": [
    "# include patients only on the 1st icu stay, older than 18 and with a length of stay from 1 to 10 days \n",
    "print(\"Number of patients hospitalized: \", len(set((demographics.subject_id))))\n"
   ]
  },
  {
   "cell_type": "code",
   "execution_count": null,
   "metadata": {},
   "outputs": [],
   "source": [
    "print(\"Number of patients with in hospital mortality: \", demographics.mort_hosp.value_counts())\n",
    "print(\"Number of patients with in icu mortality: \", demographics.mort_icu.value_counts())"
   ]
  },
  {
   "cell_type": "code",
   "execution_count": null,
   "metadata": {},
   "outputs": [],
   "source": [
    "demographics.hadm_id.value_counts().sort_values()"
   ]
  },
  {
   "cell_type": "code",
   "execution_count": null,
   "metadata": {},
   "outputs": [],
   "source": [
    "subject_id_set = set(demographics['subject_id'])\n",
    "hadm_id_set = set(demographics['hadm_id'])\n",
    "icustay_id_set = set(demographics['icustay_id'])"
   ]
  },
  {
   "cell_type": "markdown",
   "metadata": {},
   "source": [
    "## Labs and vitals "
   ]
  },
  {
   "cell_type": "code",
   "execution_count": null,
   "metadata": {},
   "outputs": [],
   "source": [
    "\n",
    "var_map = get_variable_mapping(\"resources\\itemid_to_variable_map.csv\")\n",
    "var_map"
   ]
  },
  {
   "cell_type": "code",
   "execution_count": null,
   "metadata": {},
   "outputs": [],
   "source": [
    "chartitems_to_keep = set(var_map.loc[var_map['LINKSTO'] == 'chartevents'].index)\n",
    "#chartitems_to_keep = set([ str(i) for i in chartitems_to_keep ])\n",
    "\n",
    "labitems_to_keep = set(var_map.loc[var_map['LINKSTO'] == 'labevents'].index)\n"
   ]
  },
  {
   "cell_type": "markdown",
   "metadata": {},
   "source": [
    "### Preprocess labs and vitals "
   ]
  },
  {
   "cell_type": "markdown",
   "metadata": {},
   "source": [
    "#### hourly buckets"
   ]
  },
  {
   "cell_type": "code",
   "execution_count": null,
   "metadata": {},
   "outputs": [],
   "source": [
    "# the value is str, convert to numeric\n",
    "labs_vitals['value'] = pd.to_numeric(labs_vitals['value'], 'coerce')\n",
    "#ID_COLS = ['subject_id', 'hadm_id', 'icustay_id']\n",
    "#ID_COLS = ['subject_id', 'hadm_id']\n",
    "#ITEM_COLS = ['itemid', 'label', 'LEVEL1', 'LEVEL2']\n",
    "#X = X.astype({k: int for k in ID_COLS})\n",
    "\n",
    "\n",
    "# join and add in labs_vital the icu intime and outime, to separate in hourly buckets\n",
    "demographics = demographics.set_index(\"icustay_id\")\n",
    "labs_vitals = labs_vitals.set_index('icustay_id').join(demographics[['intime', 'outtime']])\n",
    "\n",
    "\n",
    "to_hours = lambda x: max(0, x.days*24 + x.seconds // 3600)\n",
    "\n",
    "#divide into hourly buckers from intime to chartime \n",
    "#labs_vitals['hourly_buckets'] = (labs_vitals['charttime']-labs_vitals['intime'])/pd.Timedelta(minutes=60)\n",
    "#labs_vitals['hourly_buckets'] = (labs_vitals['charttime']-labs_vitals['intime'])/3600\n",
    "#labs_vitals['hourly_buckets'] = labs_vitals['hourly_buckets'].apply(lambda x: np.max(x))\n",
    "\n",
    "labs_vitals['hours_in'] = (labs_vitals['charttime'] - labs_vitals['intime']).apply(to_hours)"
   ]
  },
  {
   "cell_type": "code",
   "execution_count": null,
   "metadata": {},
   "outputs": [],
   "source": [
    "labs_vitals.hours_in.min()"
   ]
  },
  {
   "cell_type": "markdown",
   "metadata": {},
   "source": [
    "#### aggregate same item_ids according to the extract_mimic_paper"
   ]
  },
  {
   "cell_type": "code",
   "execution_count": null,
   "metadata": {},
   "outputs": [],
   "source": [
    "labs_vitals = labs_vitals.sort_values(by=['subject_id', 'charttime'])\n",
    "\n",
    "# to filter the itemids table\n",
    "itemids = set(labs_vitals.itemid.astype(str))"
   ]
  },
  {
   "cell_type": "code",
   "execution_count": null,
   "metadata": {},
   "outputs": [],
   "source": [
    "labs_vitals_copy = labs_vitals.copy(deep=True)"
   ]
  },
  {
   "cell_type": "code",
   "execution_count": null,
   "metadata": {},
   "outputs": [],
   "source": [
    "\n",
    "\n",
    "connection = psycopg2.connect(\n",
    "    user = 'postgres',\n",
    "    database=\"mimic\",\n",
    "    password=getpass.getpass(\"Enter postgres password\"), \n",
    "    host=\"127.0.0.1\", \n",
    "    port = \"5433\",\n",
    "    options=f'-c search_path=mimiciii')\n",
    "\n",
    "\n",
    "\n",
    "\n",
    "query_d_items = \\\n",
    "\"\"\"\n",
    "SELECT itemid, label, dbsource, linksto, category, unitname\n",
    "FROM d_items\n",
    "WHERE itemid in ({itemids})\n",
    ";\n",
    "\"\"\".format(itemids=','.join(itemids))\n",
    "items_ids = pd.read_sql_query(query_d_items, connection).set_index('itemid')\n"
   ]
  },
  {
   "cell_type": "code",
   "execution_count": null,
   "metadata": {},
   "outputs": [],
   "source": [
    "labs_vitals.drop(columns=['charttime', 'intime', 'outtime'], inplace=True)\n",
    "labs_vitals.set_index('itemid', append=True, inplace=True)\n",
    "\n",
    "#labs_vitals = labs_vitals.join(var_map).join(items_ids).set_index(['label', 'LEVEL1', 'LEVEL2'], append=True)\n",
    "#standardize_units(X, name_col='LEVEL1', inplace=True)\n",
    "#X = apply_variable_limits(X, var_ranges, 'LEVEL2')\n",
    "labs_vitals = labs_vitals.join(var_map).join(items_ids).set_index(['label', 'LEVEL2'], append=True)"
   ]
  },
  {
   "cell_type": "code",
   "execution_count": null,
   "metadata": {},
   "outputs": [],
   "source": [
    "labs_vitals.head()"
   ]
  },
  {
   "cell_type": "code",
   "execution_count": null,
   "metadata": {},
   "outputs": [],
   "source": [
    "# get the names of the aggregated labs and vitals\n",
    "labs_vitals_names = list(labs_vitals.index.get_level_values('LEVEL2'))\n",
    "labs_vitals = labs_vitals.groupby(['subject_id', 'hadm_id', 'icustay_id'] + ['LEVEL2'] + ['hours_in']).agg(['mean', 'std', 'count'])"
   ]
  },
  {
   "cell_type": "code",
   "execution_count": null,
   "metadata": {},
   "outputs": [],
   "source": [
    "labs_vitals.head()"
   ]
  },
  {
   "cell_type": "code",
   "execution_count": null,
   "metadata": {},
   "outputs": [],
   "source": [
    "labs_vitals.columns = labs_vitals.columns.droplevel(0)\n",
    "\n",
    "labs_vitals.columns.names = ['Aggregated']\n",
    "\n",
    "demographics['max_hours'] = (demographics['outtime'] - demographics['intime']).apply(to_hours)"
   ]
  },
  {
   "cell_type": "code",
   "execution_count": null,
   "metadata": {},
   "outputs": [],
   "source": [
    "labs_vitals.head()"
   ]
  },
  {
   "cell_type": "code",
   "execution_count": null,
   "metadata": {},
   "outputs": [],
   "source": [
    "demographics.head()"
   ]
  },
  {
   "cell_type": "markdown",
   "metadata": {},
   "source": [
    "#### Pivot the table"
   ]
  },
  {
   "cell_type": "code",
   "execution_count": null,
   "metadata": {},
   "outputs": [],
   "source": [
    "#missing_hours_fill = range_unnest(demographics, 'max_hours', out_col_name='hours_in', reset_index=True)\n",
    "#missing_hours_fill['tmp'] = np.NaN\n",
    "\n",
    "\n",
    "#fill_df = demographics.reset_index()[['subject_id', 'hadm_id', 'icustay_id']].join(missing_hours_fill.set_index('icustay_id'), on='icustay_id')\n",
    "#fill_df.set_index(['subject_id', 'hadm_id', 'icustay_id'] + ['hours_in'], inplace=True)\n",
    "\n",
    "# Pivot table droups NaN columns so you lose any uniformly NaN.\n",
    "labs_vitals = labs_vitals.unstack(level = ['LEVEL2'])\n",
    "labs_vitals.columns = labs_vitals.columns.reorder_levels(order=['LEVEL2'] + ['Aggregated'])\n",
    "   \n",
    "#X = X.reindex(fill_df.index)\n",
    "\n",
    "\n",
    "labs_vitals = labs_vitals.sort_index(axis=0).sort_index(axis=1)\n"
   ]
  },
  {
   "cell_type": "code",
   "execution_count": null,
   "metadata": {},
   "outputs": [],
   "source": [
    "labs_vitals"
   ]
  },
  {
   "cell_type": "markdown",
   "metadata": {},
   "source": [
    "#### Drop columns few recordings"
   ]
  },
  {
   "cell_type": "code",
   "execution_count": null,
   "metadata": {},
   "outputs": [],
   "source": [
    "threshold = 0.9\n",
    "columns_to_drop = []\n",
    "for column_name in labs_vitals.columns:\n",
    "    #print(column_name)\n",
    "    if column_name[1] == 'mean':\n",
    "        #get the only the means of the vital_labs\n",
    "        if labs_vitals[column_name].isnull().mean() > threshold:\n",
    "            columns_to_drop.append(column_name[0])\n",
    "\n",
    "labs_vitals_red = labs_vitals.drop(columns=columns_to_drop)"
   ]
  },
  {
   "cell_type": "markdown",
   "metadata": {},
   "source": [
    "#### Apply variable limits - outliers"
   ]
  },
  {
   "cell_type": "code",
   "execution_count": null,
   "metadata": {},
   "outputs": [],
   "source": []
  },
  {
   "cell_type": "code",
   "execution_count": null,
   "metadata": {},
   "outputs": [],
   "source": []
  },
  {
   "cell_type": "markdown",
   "metadata": {},
   "source": [
    "## Vasopressors "
   ]
  },
  {
   "cell_type": "code",
   "execution_count": null,
   "metadata": {},
   "outputs": [],
   "source": [
    "# add the remaining patients that did not have vasopressors with label in has_vasopressors = 0 \n",
    "demographics.reset_index(inplace=True)\n",
    "patients_missing_vaso = demographics[~demographics.subject_id.isin(vaso_cv.subject_id)][['subject_id', 'hadm_id', 'icustay_id']]\n",
    "\n",
    "patients_missing_vaso.head()"
   ]
  },
  {
   "cell_type": "code",
   "execution_count": null,
   "metadata": {},
   "outputs": [],
   "source": [
    "demographics.head()"
   ]
  },
  {
   "cell_type": "code",
   "execution_count": null,
   "metadata": {},
   "outputs": [],
   "source": [
    "#vaso_cv_wip = pd.DataFrame([])\n",
    "#vaso_cv_wip = vaso_cv.append(patients_missing_vaso)"
   ]
  },
  {
   "cell_type": "code",
   "execution_count": null,
   "metadata": {},
   "outputs": [],
   "source": [
    "patients_missing_vaso"
   ]
  },
  {
   "cell_type": "code",
   "execution_count": null,
   "metadata": {},
   "outputs": [],
   "source": []
  },
  {
   "cell_type": "code",
   "execution_count": null,
   "metadata": {},
   "outputs": [],
   "source": [
    "vaso_cv_wip = vaso_cv.sort_values([\"subject_id\", \"charttime\"])\n",
    "#vaso_cv_wip.reset_index(drop=True)\n",
    "vaso_cv_wip"
   ]
  },
  {
   "cell_type": "code",
   "execution_count": null,
   "metadata": {},
   "outputs": [],
   "source": [
    "vaso_cv_wip['has_vasopressors'] = vaso_cv_wip['has_vasopressors'].fillna(0)\n",
    "vaso_cv_wip"
   ]
  },
  {
   "cell_type": "code",
   "execution_count": null,
   "metadata": {},
   "outputs": [],
   "source": [
    "demographics = demographics.set_index('icustay_id')\n",
    "vaso_cv_wip = vaso_cv_wip.set_index('icustay_id').join(demographics[['intime', 'outtime']])\n",
    "vaso_cv_wip['hours_in'] = (vaso_cv_wip['charttime'] - vaso_cv_wip['intime']).apply(to_hours)"
   ]
  },
  {
   "cell_type": "code",
   "execution_count": null,
   "metadata": {},
   "outputs": [],
   "source": [
    "vaso_cv_wip = vaso_cv_wip.sort_values([\"subject_id\", \"charttime\"])\n",
    "vaso_cv_wip"
   ]
  },
  {
   "cell_type": "code",
   "execution_count": null,
   "metadata": {},
   "outputs": [],
   "source": [
    "vaso_cv_wip = vaso_cv_wip.reset_index()\n",
    "vaso_cv_wip"
   ]
  },
  {
   "cell_type": "code",
   "execution_count": null,
   "metadata": {},
   "outputs": [],
   "source": [
    "vaso_cv_wip.has_vasopressors.value_counts()"
   ]
  },
  {
   "cell_type": "code",
   "execution_count": null,
   "metadata": {},
   "outputs": [],
   "source": [
    "#labs_vitals = labs_vitals.unstack(level = ['LEVEL2'])\n",
    "#vaso_cv_wip.columns = vaso_cv_wip.columns.reorder_levels()\n",
    "   \n",
    "#X = X.reindex(fill_df.index)\n",
    "\n",
    "\n",
    "#vaso_cv_wip = vaso_cv_wip.sort_index(axis=0).sort_index(axis=1)\n",
    "\n",
    "vaso_cv_wip.drop(['rate', 'has_vasopressors'], axis=1, inplace=True)\n",
    "vaso_cv_wip.set_index('subject_id', inplace=True)\n",
    "#\n",
    "vaso_cv_wip.reset_index(inplace=True)\n",
    "\n",
    "#\n",
    "# does it make sense to take the mean of a rate?\n",
    "X = vaso_cv_wip.groupby(['subject_id', 'hadm_id', 'icustay_id'] +  ['itemid'] + ['hours_in']).agg(['mean', 'std', 'count'])\n"
   ]
  },
  {
   "cell_type": "code",
   "execution_count": null,
   "metadata": {},
   "outputs": [],
   "source": [
    "X"
   ]
  },
  {
   "cell_type": "code",
   "execution_count": null,
   "metadata": {},
   "outputs": [],
   "source": [
    "X.columns = X.columns.droplevel(0)\n",
    "\n",
    "X.columns.names = ['Aggregated']\n",
    "\n",
    "X = X.unstack(level = ['itemid'])\n",
    "X.columns = X.columns.reorder_levels(order=['itemid'] + ['Aggregated'])\n",
    "   \n",
    "#X = X.reindex(fill_df.index)\n",
    "\n",
    "\n",
    "X = X.sort_index(axis=0).sort_index(axis=1)\n",
    "X"
   ]
  },
  {
   "cell_type": "code",
   "execution_count": null,
   "metadata": {},
   "outputs": [],
   "source": [
    "threshold = 0.99\n",
    "columns_to_drop = []\n",
    "for column_name in X.columns:\n",
    "    #print(column_name)\n",
    "    if column_name[1] == 'mean':\n",
    "        #get the only the means of the vital_labs\n",
    "        if X[column_name].isnull().mean() > threshold:\n",
    "            columns_to_drop.append(column_name[0])\n",
    "\n",
    "X_red = X.drop(columns=columns_to_drop)"
   ]
  },
  {
   "cell_type": "code",
   "execution_count": null,
   "metadata": {},
   "outputs": [],
   "source": [
    "X_red"
   ]
  },
  {
   "cell_type": "code",
   "execution_count": null,
   "metadata": {},
   "outputs": [],
   "source": [
    "#############\n",
    "# Print the total proportions!\n",
    "rows, vars = X_red.shape\n",
    "print('')\n",
    "for l, vals in X_red.iteritems():\n",
    "    ratio = 1.0 * vals.dropna().count() / rows\n",
    "    print(str(l) + ': ' + str(round(ratio, 3)*100) + '% present')"
   ]
  },
  {
   "cell_type": "markdown",
   "metadata": {},
   "source": [
    "## Mechanical Ventilation"
   ]
  },
  {
   "cell_type": "code",
   "execution_count": null,
   "metadata": {},
   "outputs": [],
   "source": [
    "mech_vent"
   ]
  },
  {
   "cell_type": "code",
   "execution_count": null,
   "metadata": {},
   "outputs": [],
   "source": [
    "# add the remaining patients that did not have vasopressors with label in has_vasopressors = 0 \n",
    "demographics.reset_index(inplace=True)\n",
    "patients_missing_mech_vent = demographics[~demographics.subject_id.isin(mech_vent.subject_id)][['subject_id', 'hadm_id', 'icustay_id']]\n",
    "\n",
    "patients_missing_mech_vent.head()"
   ]
  },
  {
   "cell_type": "code",
   "execution_count": null,
   "metadata": {},
   "outputs": [],
   "source": [
    "mech_vent_wip = mech_vent.sort_values([\"subject_id\", \"charttime\"])\n",
    "#vaso_cv_wip.reset_index(drop=True)\n",
    "mech_vent_wip.head()"
   ]
  },
  {
   "cell_type": "code",
   "execution_count": null,
   "metadata": {},
   "outputs": [],
   "source": [
    "demographics = demographics.set_index('icustay_id')\n",
    "mech_vent_wip = mech_vent_wip.set_index('icustay_id').join(demographics[['intime', 'outtime']])\n",
    "mech_vent_wip['hours_in'] = (mech_vent_wip['charttime'] - mech_vent_wip['intime']).apply(to_hours)\n",
    "mech_vent_wip"
   ]
  },
  {
   "cell_type": "code",
   "execution_count": null,
   "metadata": {},
   "outputs": [],
   "source": [
    "mech_vent_wip = mech_vent_wip.sort_values([\"subject_id\", \"charttime\"])\n",
    "mech_vent_wip"
   ]
  },
  {
   "cell_type": "code",
   "execution_count": null,
   "metadata": {},
   "outputs": [],
   "source": [
    "mech_vent_wip = mech_vent_wip.reset_index()\n",
    "\n",
    "mech_vent_wip.drop(['intime', 'outtime'], axis=1, inplace=True)\n",
    "mech_vent_wip.set_index('subject_id', inplace=True)\n",
    "#\n",
    "mech_vent_wip.reset_index(inplace=True)\n",
    "# does it make sense to take the mean of a rate?\n",
    "mech_vent_wip = mech_vent_wip.groupby(['subject_id', 'hadm_id', 'icustay_id']  + ['hours_in']).agg(['min', 'count'])\n",
    "mech_vent_wip\n"
   ]
  },
  {
   "cell_type": "code",
   "execution_count": null,
   "metadata": {},
   "outputs": [],
   "source": []
  },
  {
   "cell_type": "markdown",
   "metadata": {},
   "source": [
    "## Crystalloid and colloid bolus fluids"
   ]
  },
  {
   "cell_type": "code",
   "execution_count": null,
   "metadata": {},
   "outputs": [],
   "source": [
    "# here we have listed the amount of a drug or \n",
    "# substance administered to the patient either between \n",
    "# the STARTTIME and ENDTIME (if both are available) or at the ENDTIME \n",
    "colloid_bolus"
   ]
  },
  {
   "cell_type": "code",
   "execution_count": null,
   "metadata": {},
   "outputs": [],
   "source": [
    "# add the remaining patients that did not have vasopressors with label in has_vasopressors = 0 \n",
    "demographics.reset_index(inplace=True)\n",
    "patients_missing_colloid_bolus = demographics[~demographics.subject_id.isin(colloid_bolus.subject_id)][['subject_id', 'hadm_id', 'icustay_id']]\n",
    "\n",
    "colloid_bolus_wip = colloid_bolus.sort_values([\"subject_id\", \"charttime\"])\n",
    "\n",
    "demographics = demographics.set_index('icustay_id')\n",
    "colloid_bolus_wip = colloid_bolus_wip.set_index('icustay_id').join(demographics[['intime', 'outtime']])\n",
    "colloid_bolus_wip['hours_in'] = (colloid_bolus_wip['charttime'] - colloid_bolus_wip['intime']).apply(to_hours)\n",
    "colloid_bolus_wip\n",
    "\n"
   ]
  },
  {
   "cell_type": "code",
   "execution_count": null,
   "metadata": {},
   "outputs": [],
   "source": [
    "colloid_bolus_wip = colloid_bolus_wip.sort_values([\"subject_id\", \"charttime\"])\n",
    "colloid_bolus_wip = colloid_bolus_wip.reset_index()\n",
    "\n",
    "colloid_bolus_wip.drop(['intime', 'outtime'], axis=1, inplace=True)\n",
    "colloid_bolus_wip.set_index('subject_id', inplace=True)\n",
    "#\n",
    "colloid_bolus_wip.reset_index(inplace=True)\n",
    "# does it make sense to take the mean of a rate?\n",
    "colloid_bolus_wip = colloid_bolus_wip.groupby(['subject_id', 'hadm_id', 'icustay_id']  + ['hours_in']).agg(['mean', 'std', 'count'])\n",
    "colloid_bolus_wip"
   ]
  },
  {
   "cell_type": "code",
   "execution_count": null,
   "metadata": {},
   "outputs": [],
   "source": [
    "\n",
    "demographics.reset_index(inplace=True)\n",
    "patients_missing_crystalloid_bolus = demographics[~demographics.subject_id.isin(crystalloid_bolus.subject_id)][['subject_id', 'hadm_id', 'icustay_id']]\n",
    "\n",
    "crystalloid_bolus_wip = crystalloid_bolus.sort_values([\"subject_id\", \"charttime\"])\n",
    "\n",
    "demographics = demographics.set_index('icustay_id')\n",
    "crystalloid_bolus_wip = crystalloid_bolus_wip.set_index('icustay_id').join(demographics[['intime', 'outtime']])\n",
    "crystalloid_bolus_wip['hours_in'] = (crystalloid_bolus_wip['charttime'] - crystalloid_bolus_wip['intime']).apply(to_hours)\n",
    "crystalloid_bolus_wip = crystalloid_bolus_wip.sort_values([\"subject_id\", \"charttime\"])\n",
    "crystalloid_bolus_wip = crystalloid_bolus_wip.reset_index()\n",
    "\n",
    "crystalloid_bolus_wip.drop(['intime', 'outtime'], axis=1, inplace=True)\n",
    "crystalloid_bolus_wip.set_index('subject_id', inplace=True)\n",
    "#\n",
    "crystalloid_bolus_wip.reset_index(inplace=True)\n",
    "# does it make sense to take the mean of a rate?\n",
    "crystalloid_bolus_wip = crystalloid_bolus_wip.groupby(['subject_id', 'hadm_id', 'icustay_id']  + ['hours_in']).agg(['mean', 'std', 'count'])\n",
    "crystalloid_bolus_wip"
   ]
  },
  {
   "cell_type": "markdown",
   "metadata": {},
   "source": [
    "## Antiobiotics"
   ]
  },
  {
   "cell_type": "code",
   "execution_count": null,
   "metadata": {},
   "outputs": [],
   "source": [
    "antibiotics"
   ]
  },
  {
   "cell_type": "code",
   "execution_count": null,
   "metadata": {},
   "outputs": [],
   "source": [
    "\n",
    "demographics.reset_index(inplace=True)\n",
    "patients_missing_antibiotics = demographics[~demographics.subject_id.isin(antibiotics.subject_id)][['subject_id', 'hadm_id', 'icustay_id']]\n",
    "\n",
    "antibiotics_wip = antibiotics.sort_values([\"subject_id\", \"startdate\"])\n",
    "\n",
    "demographics = demographics.set_index('icustay_id')\n",
    "antibiotics_wip = antibiotics_wip.set_index('icustay_id').join(demographics[['intime', 'outtime']])\n",
    "antibiotics_wip['hours_in'] = (antibiotics_wip['startdate'] - antibiotics_wip['intime']).apply(to_hours)\n",
    "antibiotics_wip = antibiotics_wip.sort_values([\"subject_id\", \"startdate\"])\n",
    "antibiotics_wip = antibiotics_wip.reset_index()\n",
    "\n",
    "antibiotics_wip.drop(['intime', 'outtime', 'startdate', 'enddate', 'drug_name_generic', 'route'], axis=1, inplace=True)\n",
    "antibiotics_wip.set_index('subject_id', inplace=True)\n",
    "#\n",
    "antibiotics_wip.reset_index(inplace=True)\n",
    "# does it make sense to take the mean of a rate?\n",
    "antibiotics_wip = antibiotics_wip.groupby(['subject_id', 'hadm_id', 'icustay_id']  + ['drug'] + ['hours_in']).agg(['count'])\n",
    "antibiotics_wip"
   ]
  },
  {
   "cell_type": "code",
   "execution_count": null,
   "metadata": {},
   "outputs": [],
   "source": [
    "antibiotics_wip.columns = antibiotics_wip.columns.droplevel(0)\n",
    "\n",
    "antibiotics_wip.columns.names = ['Aggregated']\n",
    "\n",
    "antibiotics_wip = antibiotics_wip.unstack(level = ['drug'])\n",
    "antibiotics_wip.columns = antibiotics_wip.columns.reorder_levels(order=['drug'] + ['Aggregated'])\n",
    "   \n",
    "#X = X.reindex(fill_df.index)\n",
    "\n",
    "\n",
    "antibiotics_wip = antibiotics_wip.sort_index(axis=0).sort_index(axis=1)\n",
    "antibiotics_wip"
   ]
  },
  {
   "cell_type": "code",
   "execution_count": null,
   "metadata": {},
   "outputs": [],
   "source": [
    "threshold = 0.99\n",
    "columns_to_drop = []\n",
    "for column_name in antibiotics_wip.columns:\n",
    "    #print(column_name)\n",
    "    if column_name[1] == 'count':\n",
    "        #get the only the means of the vital_labs\n",
    "        if antibiotics_wip[column_name].isnull().mean() > threshold:\n",
    "            columns_to_drop.append(column_name[0])\n",
    "\n",
    "antibiotics_wip_red = antibiotics_wip.drop(columns=columns_to_drop)\n",
    "antibiotics_wip_red"
   ]
  },
  {
   "cell_type": "markdown",
   "metadata": {},
   "source": [
    "## Diagnoses"
   ]
  },
  {
   "cell_type": "code",
   "execution_count": null,
   "metadata": {},
   "outputs": [],
   "source": [
    "diagnoses"
   ]
  },
  {
   "cell_type": "code",
   "execution_count": null,
   "metadata": {},
   "outputs": [],
   "source": [
    "diagnoses_wip = diagnoses.groupby(['subject_id', 'hadm_id']  + ['icd9_title']).agg(['count'])\n",
    "diagnoses_wip"
   ]
  },
  {
   "cell_type": "code",
   "execution_count": null,
   "metadata": {},
   "outputs": [],
   "source": [
    "diagnoses_wip.columns = diagnoses_wip.columns.droplevel(0)\n",
    "\n",
    "diagnoses_wip.columns.names = ['Aggregated']\n",
    "\n",
    "diagnoses_wip = diagnoses_wip.unstack(level = ['icd9_title'])\n",
    "diagnoses_wip.columns = diagnoses_wip.columns.reorder_levels(order=['icd9_title'] + ['Aggregated'])\n",
    "   \n",
    "#X = X.reindex(fill_df.index)\n",
    "\n",
    "\n",
    "diagnoses_wip = diagnoses_wip.sort_index(axis=0).sort_index(axis=1)\n",
    "diagnoses_wip"
   ]
  },
  {
   "cell_type": "markdown",
   "metadata": {},
   "source": [
    "## Analysis and Plotting"
   ]
  },
  {
   "cell_type": "code",
   "execution_count": null,
   "metadata": {},
   "outputs": [],
   "source": [
    "#var_names = list(X.columns.get_level_values('LEVEL2'))\n",
    "#plot_variable_histograms(var_names, X)\n",
    "var_names = ['White blood cell count']\n",
    "#plot_variable_histograms(var_names, X)\n",
    "\n",
    "#############\n",
    "# Print the total proportions!\n",
    "rows, vars = labs_vitals_red.shape\n",
    "print('')\n",
    "for l, vals in labs_vitals_red.iteritems():\n",
    "    ratio = 1.0 * vals.dropna().count() / rows\n",
    "    print(str(l) + ': ' + str(round(ratio, 3)*100) + '% present')\n",
    "\"\"\"\n",
    "#############\n",
    "# Print the per subject proportions!\n",
    "df = X.groupby(['subject_id']).count()\n",
    "for k in [1, 2, 3]:\n",
    "    print('% of subjects had at least ' + str(k) + ' present')\n",
    "    d = df > k\n",
    "    d = d.sum(axis=0)\n",
    "    d = d / len(df)\n",
    "    d = d.reset_index()\n",
    "    for index, row in d.iterrows():\n",
    "        print(str(index) + ': ' + str(round(row[0], 3)*100) + '%')\n",
    "    print('\\n')\n",
    "\"\"\"\n",
    "\n",
    "print('Done!')"
   ]
  },
  {
   "cell_type": "markdown",
   "metadata": {},
   "source": []
  },
  {
   "cell_type": "code",
   "execution_count": null,
   "metadata": {},
   "outputs": [],
   "source": []
  }
 ],
 "metadata": {
  "interpreter": {
   "hash": "4a3821e50dfd29f54393a38062d93a54d0c9d954cd67861638d013f261604981"
  },
  "kernelspec": {
   "display_name": "Python 3.7.4 64-bit",
   "language": "python",
   "name": "python3"
  },
  "language_info": {
   "codemirror_mode": {
    "name": "ipython",
    "version": 3
   },
   "file_extension": ".py",
   "mimetype": "text/x-python",
   "name": "python",
   "nbconvert_exporter": "python",
   "pygments_lexer": "ipython3",
   "version": "3.7.4"
  },
  "orig_nbformat": 4
 },
 "nbformat": 4,
 "nbformat_minor": 2
}
